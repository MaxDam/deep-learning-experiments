{
 "cells": [
  {
   "cell_type": "code",
   "execution_count": 110,
   "metadata": {},
   "outputs": [],
   "source": [
    "import tensorflow as tf\n",
    "import pandas as pd\n",
    "import numpy as np\n",
    "import matplotlib.pyplot as plt\n",
    "%matplotlib inline\n",
    "from sklearn import preprocessing\n",
    "from sklearn.model_selection import train_test_split\n",
    "from sklearn.externals import joblib\n",
    "from sklearn.metrics import mean_squared_error, mean_absolute_error\n",
    "from sklearn.metrics import r2_score\n",
    "import random\n",
    "from sklearn.metrics import confusion_matrix, accuracy_score, f1_score, precision_score, recall_score\n",
    "import seaborn as sn"
   ]
  },
  {
   "cell_type": "markdown",
   "metadata": {},
   "source": [
    "## Iperparametri"
   ]
  },
  {
   "cell_type": "code",
   "execution_count": 111,
   "metadata": {},
   "outputs": [],
   "source": [
    "#general\n",
    "logLabel = \"log44\"\n",
    "print_period = 50\n",
    "use_dummies_input = True\n",
    "\n",
    "#regularizzation\n",
    "use_batchnorm = False\n",
    "use_dropout = True\n",
    "input_dropout_rate = 0.3\n",
    "dropout_rate = 0.5\n",
    "\n",
    "#layer size\n",
    "use_direct_inputs = True\n",
    "use_layer_regression_full = True\n",
    "use_layer_regression_couple = True\n",
    "n_input_regressions = [30, 10]\n",
    "n_hiddens = [100]\n",
    "activation_function = tf.nn.relu\n",
    "\n",
    "#training\n",
    "learning_rate = 0.001\n",
    "scale_input_data = False\n",
    "scale_output_data = True\n",
    "batch_size = 50\n",
    "test_batch_size = 100\n",
    "epochs = 5000\n",
    "patience = 100\n",
    "min_delta = 0.001"
   ]
  },
  {
   "cell_type": "markdown",
   "metadata": {},
   "source": [
    "## Ottiene i dati"
   ]
  },
  {
   "cell_type": "code",
   "execution_count": 112,
   "metadata": {},
   "outputs": [],
   "source": [
    "df = pd.read_csv('patterns.csv')\n",
    "#print(df.head(5))\n",
    "\n",
    "#ottiene input e output\n",
    "if use_dummies_input:\n",
    "    X1 = pd.get_dummies(df.iloc[:, 0]).values.astype(np.float32)\n",
    "    X2 = pd.get_dummies(df.iloc[:, 24]).values.astype(np.float32)\n",
    "    for i in range(1,24):\n",
    "        X1_dummy = pd.get_dummies(df.iloc[:, i]).values.astype(np.float32)\n",
    "        X2_dummy = pd.get_dummies(df.iloc[:, i+24]).values.astype(np.float32)\n",
    "        X1 = np.concatenate((X1, X1_dummy), axis=1)\n",
    "        X2 = np.concatenate((X2, X2_dummy), axis=1)\n",
    "else:\n",
    "    X1 = df.iloc[:, :24].values.astype(np.float32)\n",
    "    X2 = df.iloc[:, 24:48].values.astype(np.float32)\n",
    "y = df.iloc[:, -1].values.astype(np.float32)\n",
    "\n",
    "#separa dati di train da dati di test\n",
    "test_size=0.33\n",
    "X1_train, X1_test, X2_train, X2_test, y_train, y_test = train_test_split(X1, X2, y, test_size=test_size, random_state=42)\n"
   ]
  },
  {
   "cell_type": "markdown",
   "metadata": {},
   "source": [
    "## Crea il modello"
   ]
  },
  {
   "cell_type": "code",
   "execution_count": 113,
   "metadata": {},
   "outputs": [],
   "source": [
    "tf.reset_default_graph()\n",
    "\n",
    "#crea i placeholder di input\n",
    "n_input = X1.shape[1]\n",
    "x_input1 = tf.placeholder(dtype=tf.float32, shape=[None, n_input], name=\"X1\")\n",
    "x_input2 = tf.placeholder(dtype=tf.float32, shape=[None, n_input], name=\"X2\")\n",
    "is_training = tf.placeholder(tf.bool, name=\"isTraining\")\n",
    "y_target = tf.placeholder(dtype=tf.float32, shape=[None,n_output], name='Y')\n",
    "input_regressions = []\n",
    "\n",
    "#crea un unico livello di input, per avere solo un hidden layer denso (da commentare le successive 2 sezioni)\n",
    "if use_direct_inputs:\n",
    "    input_regressions.append(x_input1)\n",
    "    input_regressions.append(x_input2)"
   ]
  },
  {
   "cell_type": "code",
   "execution_count": 114,
   "metadata": {},
   "outputs": [],
   "source": [
    "if use_layer_regression_full:\n",
    "    #2 regressioni full\n",
    "    with tf.variable_scope(\"regression_full1\") as scope:\n",
    "        layer = tf.layers.dense(x_input1, n_input_regressions[0], activation=activation_function)\n",
    "        #if use_dropout:\n",
    "            #layer = tf.layers.dropout(layer, rate=input_dropout_rate, training=is_training)\n",
    "        \n",
    "        #crea i livelli hidden di full1\n",
    "        for i in range(1, len(n_input_regressions)):\n",
    "            with tf.variable_scope(\"regression_hidden_full1_\"+str(i)) as scope:\n",
    "                layer = tf.layers.dense(layer, n_input_regressions[i], activation=activation_function)\n",
    "                #if use_dropout:\n",
    "                    #layer = tf.layers.dropout(layer, rate=dropout_rate, training=is_training)\n",
    "\n",
    "        #aggiuge il layer nell'elenco delle input regression\n",
    "        input_regressions.append(layer)\n",
    "    \n",
    "    with tf.variable_scope(\"regression_full2\") as scope:\n",
    "        layer = tf.layers.dense(x_input2, n_input_regressions[0], activation=activation_function)\n",
    "        #if use_dropout:\n",
    "                #layer = tf.layers.dropout(layer, rate=input_dropout_rate, training=is_training)\n",
    "        \n",
    "        #crea i livelli hidden di full2\n",
    "        for i in range(1, len(n_input_regressions)):\n",
    "            with tf.variable_scope(\"regression_hidden_full2_\"+str(i)) as scope:\n",
    "                layer = tf.layers.dense(layer, n_input_regressions[i], activation=activation_function)\n",
    "                #if use_dropout:\n",
    "                    #layer = tf.layers.dropout(layer, rate=dropout_rate, training=is_training)\n",
    "\n",
    "        #aggiuge il layer nell'elenco delle input regression\n",
    "        input_regressions.append(layer)"
   ]
  },
  {
   "cell_type": "code",
   "execution_count": 115,
   "metadata": {},
   "outputs": [],
   "source": [
    "if use_layer_regression_couple:\n",
    "    #per ogni coppia di input crea una regressione\n",
    "    with tf.variable_scope(\"regression_couple\") as scope:    \n",
    "        for i in range(n_input):\n",
    "            if use_dummies_input:\n",
    "                layer_input = tf.concat([x_input1[:, i:i+5+1], x_input2[:, i:i+5+1]], axis=1)\n",
    "            else:    \n",
    "                layer_input = tf.concat([x_input1[:, i:i+1], x_input2[:, i:i+1]], axis=1)\n",
    "            layer = tf.layers.dense(layer_input, n_input_regressions[0], activation=activation_function)\n",
    "            #if use_dropout:\n",
    "                #layer = tf.layers.dropout(layer, rate=input_dropout_rate, training=is_training)\n",
    "            \n",
    "            for j in range(1, len(n_input_regressions)):\n",
    "                with tf.variable_scope(\"regression_hidden_\"+str(i)+str(j)) as scope:\n",
    "                    layer = tf.layers.dense(layer, n_input_regressions[j], activation=activation_function)\n",
    "                    #if use_dropout:\n",
    "                        #layer = tf.layers.dropout(layer, rate=dropout_rate, training=is_training)\n",
    "\n",
    "            #aggiuge il layer nell'elenco delle input regression\n",
    "            input_regressions.append(layer)\n"
   ]
  },
  {
   "cell_type": "code",
   "execution_count": 116,
   "metadata": {},
   "outputs": [],
   "source": [
    "#concatena tutte le regressioni di ingresso (o solo gli input)\n",
    "hidden_layer = tf.concat(input_regressions, axis=1)\n",
    "\n",
    "#crea gli altri livelli hidden\n",
    "for i in range(0, len(n_hiddens)):\n",
    "    with tf.variable_scope(\"hidden_\"+str(i + 1)) as scope:\n",
    "        if use_batchnorm:\n",
    "            hidden_layer = tf.layers.batch_normalization(hidden_layer, training=is_training)\n",
    "        hidden_layer = tf.layers.dense(hidden_layer, n_hiddens[i], activation=activation_function)\n",
    "        if use_dropout:\n",
    "            hidden_layer = tf.layers.dropout(hidden_layer, rate=dropout_rate, training=is_training)\n",
    "    \n",
    "#crea il livello output\n",
    "n_output = 1\n",
    "with tf.variable_scope(\"output\") as scope:\n",
    "    if use_batchnorm:\n",
    "        hidden_layer = tf.layers.batch_normalization(hidden_layer, training=is_training)\n",
    "    output_layer = tf.layers.dense(hidden_layer, n_output)"
   ]
  },
  {
   "cell_type": "code",
   "execution_count": 117,
   "metadata": {},
   "outputs": [],
   "source": [
    "#crea la funzione di costo e l'optimizer\n",
    "loss = tf.losses.mean_squared_error(y_target, output_layer)\n",
    "\n",
    "#optimizer = tf.train.GradientDescentOptimizer(learning_rate=learning_rate).minimize(loss)\n",
    "optimizer = tf.train.AdamOptimizer(learning_rate=learning_rate).minimize(loss)\n",
    "\n",
    "train_loss_summary = tf.summary.scalar('loss', loss)\n",
    "test_loss_summary = tf.summary.scalar('val_loss', loss)"
   ]
  },
  {
   "cell_type": "markdown",
   "metadata": {},
   "source": [
    "## Effettua il training"
   ]
  },
  {
   "cell_type": "code",
   "execution_count": 118,
   "metadata": {},
   "outputs": [],
   "source": [
    "#init\n",
    "sess = tf.Session()\n",
    "init = tf.global_variables_initializer()\n",
    "sess.run(init)\n",
    "writer = tf.summary.FileWriter(logdir='logs/'+logLabel , graph=tf.get_default_graph())\n",
    "saver = tf.train.Saver()\n",
    "\n",
    "#effettua lo scaler dei dati di ingresso\n",
    "if scale_input_data:\n",
    "    X_alldata = np.concatenate((X1, X2), axis=0)\n",
    "    scalerX = preprocessing.MinMaxScaler().fit(X_alldata)\n",
    "    X1_train_scaled = scalerX.transform(X1_train)\n",
    "    X2_train_scaled = scalerX.transform(X2_train)\n",
    "    X1_test_scaled = scalerX.transform(X1_test)\n",
    "    X2_test_scaled = scalerX.transform(X2_test)\n",
    "else:\n",
    "    X1_train_scaled = X1_train\n",
    "    X2_train_scaled = X2_train\n",
    "    X1_test_scaled = X1_test\n",
    "    X2_test_scaled = X2_test\n",
    "\n",
    "#effettua lo scaler dei dati di uscita\n",
    "if scale_output_data:\n",
    "    y_train_scaled = y_train/200\n",
    "    y_test_scaled = y_test/200\n",
    "else:\n",
    "    y_train_scaled = y_train\n",
    "    y_test_scaled = y_test"
   ]
  },
  {
   "cell_type": "code",
   "execution_count": 119,
   "metadata": {},
   "outputs": [],
   "source": [
    "#effettua il training\n",
    "train_history_loss = list()\n",
    "test_history_loss  = list()\n",
    "patience_cnt = 0\n",
    "res_prec_loss = float('inf')\n",
    "for epoch in range(epochs):\n",
    "    \n",
    "    #effettua il train di un batch di dati\n",
    "    rand_index = np.random.choice(len(y_train), size=batch_size)\n",
    "    rand_x1 = X1_train_scaled[rand_index]\n",
    "    rand_x2 = X2_train_scaled[rand_index]\n",
    "    rand_y = np.transpose([y_train_scaled[rand_index]])\n",
    "    res_optimizer, res_loss, res_train_lost_summary = sess.run(\n",
    "        [optimizer, loss, train_loss_summary], \n",
    "        feed_dict={\n",
    "          x_input1: rand_x1,\n",
    "          x_input2: rand_x2,\n",
    "          y_target: rand_y,\n",
    "          is_training: True\n",
    "        })\n",
    "    \n",
    "    #preiodicamente stampa la loss del train e ricalcola i dati di test per ottenere la loss di validazione\n",
    "    save_loss = epoch % int(print_period * epochs / 1000) == 0\n",
    "    if save_loss:\n",
    "        #conserva la loss di train\n",
    "        train_history_loss.append(res_loss)\n",
    "        writer.add_summary(res_train_lost_summary, epoch)\n",
    "\n",
    "        #effettua la validazione\n",
    "        rand_index = np.random.choice(len(y_test), size=test_batch_size)\n",
    "        rand_x1 = X1_test_scaled[rand_index]\n",
    "        rand_x2 = X2_test_scaled[rand_index]\n",
    "        rand_y = np.transpose([y_test_scaled[rand_index]])\n",
    "        res_loss, res_test_loss_summary = sess.run(\n",
    "            [loss, test_loss_summary], \n",
    "            feed_dict={\n",
    "              x_input1: rand_x1,\n",
    "              x_input2: rand_x2,\n",
    "              y_target: rand_y,\n",
    "              is_training: False\n",
    "            })\n",
    "        \n",
    "        #conserva la loss di validazione\n",
    "        test_history_loss.append(res_loss)\n",
    "        writer.add_summary(res_test_loss_summary, epoch)\n",
    "\n",
    "    #gestisce l'early stopping\n",
    "    if epoch > 0 and res_prec_loss-res_loss > min_delta:\n",
    "        patience_cnt = 0\n",
    "    else:\n",
    "        patience_cnt += 1\n",
    "    res_prec_loss = res_loss\n",
    "    if patience_cnt > patience:\n",
    "        print(\"early stopping... epoch: \", epoch)\n",
    "        break\n",
    "           \n",
    "#salva il modello e gli scaler\n",
    "saver.save(sess, \"./saved/model.ckpt\")\n",
    "if scale_input_data:\n",
    "    joblib.dump(scalerX, './saved/scalerX.pkl') "
   ]
  },
  {
   "cell_type": "markdown",
   "metadata": {},
   "source": [
    "## Stampa le perdite"
   ]
  },
  {
   "cell_type": "code",
   "execution_count": 120,
   "metadata": {},
   "outputs": [
    {
     "data": {
      "image/png": "[encoded data removed]",
      "text/plain": [
       "<Figure size 432x288 with 1 Axes>"
      ]
     },
     "metadata": {},
     "output_type": "display_data"
    }
   ],
   "source": [
    "#stampo la perdita\n",
    "start_plot_index = 5\n",
    "plt.plot(train_history_loss[start_plot_index:], 'blue', label='Train Loss')\n",
    "plt.plot(test_history_loss[start_plot_index:], 'orange', label='Val Loss')\n",
    "plt.title('Loss (MSE) per Epochs')\n",
    "plt.xlabel('Epochs')\n",
    "plt.ylabel('Loss')\n",
    "plt.legend(loc='upper right')\n",
    "plt.show()"
   ]
  },
  {
   "cell_type": "markdown",
   "metadata": {},
   "source": [
    "## Effettua le predictions"
   ]
  },
  {
   "cell_type": "code",
   "execution_count": 121,
   "metadata": {},
   "outputs": [
    {
     "name": "stdout",
     "output_type": "stream",
     "text": [
      "Prediction example:  [86.96857, 86.04302, 88.1785, 50.496315, 84.52081, 63.652695, 106.87029, 36.572937, 61.923725, 49.12987]\n"
     ]
    }
   ],
   "source": [
    "#ottiene l'output dai dati di test\n",
    "feed_dict = {\n",
    "  x_input1: X1_test_scaled,\n",
    "  x_input2: X2_test_scaled,\n",
    "  is_training: False\n",
    "}\n",
    "res_output_layer = sess.run([output_layer], feed_dict=feed_dict)\n",
    "\n",
    "#trasforma gli output in predictions\n",
    "predictions = []\n",
    "if scale_output_data:\n",
    "    res_output_layer_unscaled = res_output_layer[0]*200\n",
    "else:\n",
    "    res_output_layer_unscaled = res_output_layer[0]\n",
    "for i in range(len(res_output_layer_unscaled)):\n",
    "    predictions.append(res_output_layer_unscaled[i][0])\n",
    "\n",
    "#trasforma i dati Y di test in labels    \n",
    "labels = []\n",
    "for i in range(len(y_test)):\n",
    "    labels.append(y_test[i])\n",
    "    \n",
    "#stampa un esempio di predizioni\n",
    "print(\"Prediction example: \", predictions[:10])"
   ]
  },
  {
   "cell_type": "code",
   "execution_count": 122,
   "metadata": {},
   "outputs": [],
   "source": [
    "##prova una support vector machine\n",
    "#from sklearn.svm import SVR\n",
    "#svr = SVR(kernel='poly', C=1e3, degree=2)\n",
    "#X_train = np.concatenate((X1_train_scaled, X2_train_scaled), axis=1)\n",
    "#X_test = np.concatenate((X1_test_scaled, X2_test_scaled), axis=1)\n",
    "#svr.fit(X_train, Y_train)\n",
    "#predictions = svr.predict(X_test)"
   ]
  },
  {
   "cell_type": "markdown",
   "metadata": {},
   "source": [
    "## Valuta il modello in base alla regressione"
   ]
  },
  {
   "cell_type": "code",
   "execution_count": 123,
   "metadata": {},
   "outputs": [
    {
     "data": {
      "image/png": "[encoded data removed]",
      "text/plain": [
       "<Figure size 432x288 with 1 Axes>"
      ]
     },
     "metadata": {},
     "output_type": "display_data"
    },
    {
     "data": {
      "image/png": "[encoded data removed]",
      "text/plain": [
       "<Figure size 432x288 with 1 Axes>"
      ]
     },
     "metadata": {},
     "output_type": "display_data"
    },
    {
     "data": {
      "image/png": "[encoded data removed]",
      "text/plain": [
       "<Figure size 432x288 with 1 Axes>"
      ]
     },
     "metadata": {},
     "output_type": "display_data"
    },
    {
     "name": "stdout",
     "output_type": "stream",
     "text": [
      "MAE:  7.339971  (→ 0)\n",
      "RMSE:  9.06028688966024  (→ 0)\n",
      "R^2:  0.8817011061538185  (→ 1)\n"
     ]
    }
   ],
   "source": [
    "#ottiene l' R^2 score (ottimo valore se tendente a 1)\n",
    "r_square = r2_score(labels, predictions) \n",
    "\n",
    "#ottiene il Mean Absolute Error (MAE) (ottimo valore se tendente a 0)\n",
    "mae = mean_absolute_error(labels, predictions)\n",
    "\n",
    "#ottiene il Root Mean Squared Error (RMSE) (ottimo valore se tendente a 0)\n",
    "rmse = mean_squared_error(labels, predictions)**0.5\n",
    "\n",
    "#stampa le varie discrepanze (differenza tra il valore atteso ed il valore predetto)\n",
    "discrepancies = []\n",
    "for i in range(len(labels)):\n",
    "    discrepancies.append(labels[i]-predictions[i])\n",
    "plt.title('Evaluating regression model')\n",
    "plt.plot(discrepancies, label='Discrepancies', color='orange')\n",
    "plt.axhline(y=mae, color='b', linestyle='--', label='MAE')\n",
    "plt.axhline(y=-mae, color='b', linestyle='--')\n",
    "plt.axhline(y=rmse, color='r', linestyle='--', label='RMSE')\n",
    "plt.axhline(y=-rmse, color='r', linestyle='--')\n",
    "plt.axhline(y=-0, color='g', linestyle='--')\n",
    "plt.legend(loc='upper right')\n",
    "plt.show()\n",
    "\n",
    "#predictions e true value\n",
    "plt.scatter(labels, predictions, color='blue')\n",
    "plt.xlabel('True Values')\n",
    "plt.ylabel('Predictions')\n",
    "plt.title('Prediction and true value')\n",
    "plt.xlim([0,plt.xlim()[1]])\n",
    "plt.ylim([0,plt.ylim()[1]])\n",
    "plt.plot([-500, 500], [-500, 500])\n",
    "plt.show()\n",
    "\n",
    "#distribuzione degli errori\n",
    "plt.hist(discrepancies, bins=25, color='green')\n",
    "plt.title(\"Prediction Error\")\n",
    "plt.show()\n",
    "\n",
    "#stampa i risultati\n",
    "print(\"MAE: \", mae, \" (→ 0)\")\n",
    "print(\"RMSE: \", rmse, \" (→ 0)\")\n",
    "print(\"R^2: \", r_square, \" (→ 1)\")"
   ]
  },
  {
   "cell_type": "markdown",
   "metadata": {},
   "source": [
    "## Valuta il modello in base alla classificazione"
   ]
  },
  {
   "cell_type": "code",
   "execution_count": 124,
   "metadata": {},
   "outputs": [],
   "source": [
    "#trasforma le predizioni in classi\n",
    "def transformToClass(yr):\n",
    "    yc = []\n",
    "    for i in range(len(yr)):\n",
    "        yi = np.zeros(7)\n",
    "        if (yr[i]<70):                  yi[0] = 1 #A\n",
    "        if (yr[i]>=70  and yr[i]<=83) : yi[1] = 1 #B\n",
    "        if (yr[i]>=84  and yr[i]<=98) : yi[2] = 1 #C\n",
    "        if (yr[i]>=99  and yr[i]<=113): yi[3] = 1 #D\n",
    "        if (yr[i]>=114 and yr[i]<=128): yi[4] = 1 #E\n",
    "        if (yr[i]>=129 and yr[i]<=143): yi[5] = 1 #F\n",
    "        if (yr[i]>143):                 yi[6] = 1 #G\n",
    "        yc.append(yi)\n",
    "    yr = np.array(yc)\n",
    "    return yr\n",
    "\n",
    "\n",
    "c_labels = transformToClass(labels)\n",
    "c_predictions = transformToClass(predictions)"
   ]
  },
  {
   "cell_type": "code",
   "execution_count": 125,
   "metadata": {},
   "outputs": [
    {
     "name": "stdout",
     "output_type": "stream",
     "text": [
      "accuracy_score: 0.6742\n",
      "precision_score: 0.6403\n",
      "recall_score: 0.6742\n",
      "f1_score: 0.6465\n"
     ]
    },
    {
     "name": "stderr",
     "output_type": "stream",
     "text": [
      "C:\\Users\\Utente\\Anaconda3\\lib\\site-packages\\sklearn\\metrics\\classification.py:1135: UndefinedMetricWarning: Precision is ill-defined and being set to 0.0 in labels with no predicted samples.\n",
      "  'precision', 'predicted', average, warn_for)\n",
      "C:\\Users\\Utente\\Anaconda3\\lib\\site-packages\\sklearn\\metrics\\classification.py:1135: UndefinedMetricWarning: F-score is ill-defined and being set to 0.0 in labels with no predicted samples.\n",
      "  'precision', 'predicted', average, warn_for)\n"
     ]
    },
    {
     "data": {
      "text/plain": [
       "<matplotlib.axes._subplots.AxesSubplot at 0x20920655ef0>"
      ]
     },
     "execution_count": 125,
     "metadata": {},
     "output_type": "execute_result"
    },
    {
     "data": {
      "image/png": "[encoded data removed]",
      "text/plain": [
       "<Figure size 720x504 with 2 Axes>"
      ]
     },
     "metadata": {},
     "output_type": "display_data"
    }
   ],
   "source": [
    "#valuta la classificazione\n",
    "predictions_max = np.argmax(c_predictions, axis=1)\n",
    "y_test_max = np.argmax(c_labels, axis=1)\n",
    "\n",
    "#calcola gli score\n",
    "accuracy_score_val = accuracy_score(y_test_max, predictions_max)\n",
    "precision_score_val = precision_score(y_test_max, predictions_max, average='weighted') # tp / (tp + fp)\n",
    "recall_score_val = recall_score(y_test_max, predictions_max, average='weighted') # tp / (tp + fn)\n",
    "f1_score_val = f1_score(y_test_max, predictions_max, average='weighted')\n",
    "\n",
    "#stampa gli score\n",
    "print(\"accuracy_score: %0.4f\" % accuracy_score_val)\n",
    "print(\"precision_score: %0.4f\" % precision_score_val)\n",
    "print(\"recall_score: %0.4f\" % recall_score_val)\n",
    "print(\"f1_score: %0.4f\" % f1_score_val)\n",
    "\n",
    "#ottiene e stampa la confusion matrix\n",
    "cm = confusion_matrix(y_test_max, predictions_max)\n",
    "df_cm = pd.DataFrame(cm, \n",
    "                     index = [i for i in range(cm.shape[0])],\n",
    "                     columns = [i for i in range(cm.shape[1])])\n",
    "plt.figure(figsize = (10,7))\n",
    "sn.heatmap(df_cm, annot=True, cmap='Blues', fmt='g')"
   ]
  },
  {
   "cell_type": "code",
   "execution_count": null,
   "metadata": {},
   "outputs": [],
   "source": []
  }
 ],
 "metadata": {
  "kernelspec": {
   "display_name": "Python 3",
   "language": "python",
   "name": "python3"
  },
  "language_info": {
   "codemirror_mode": {
    "name": "ipython",
    "version": 3
   },
   "file_extension": ".py",
   "mimetype": "text/x-python",
   "name": "python",
   "nbconvert_exporter": "python",
   "pygments_lexer": "ipython3",
   "version": "3.6.5"
  }
 },
 "nbformat": 4,
 "nbformat_minor": 2
}
