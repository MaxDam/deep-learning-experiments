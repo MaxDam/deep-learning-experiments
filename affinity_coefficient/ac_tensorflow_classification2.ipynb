{
 "cells": [
  {
   "cell_type": "code",
   "execution_count": 1,
   "metadata": {},
   "outputs": [],
   "source": [
    "import tensorflow as tf\n",
    "import pandas as pd\n",
    "import numpy as np\n",
    "import matplotlib.pyplot as plt\n",
    "%matplotlib inline\n",
    "from sklearn import preprocessing\n",
    "from sklearn.model_selection import train_test_split\n",
    "from sklearn.externals import joblib\n",
    "from sklearn.metrics import mean_squared_error, mean_absolute_error\n",
    "from sklearn.metrics import r2_score\n",
    "import random\n",
    "from sklearn.metrics import confusion_matrix, accuracy_score, f1_score, precision_score, recall_score\n",
    "import seaborn as sn"
   ]
  },
  {
   "cell_type": "markdown",
   "metadata": {},
   "source": [
    "## Iperparametri"
   ]
  },
  {
   "cell_type": "code",
   "execution_count": 2,
   "metadata": {},
   "outputs": [],
   "source": [
    "#general\n",
    "logLabel = \"log44\"\n",
    "print_period = 50\n",
    "use_dummies_input = False\n",
    "\n",
    "#regularizzation\n",
    "use_dropout = True\n",
    "dropout_rate = 0.5\n",
    "\n",
    "#layer size\n",
    "n_hiddens = [600, 100]\n",
    "n_output = 7\n",
    "activation_function = tf.nn.relu\n",
    "\n",
    "#training\n",
    "learning_rate = 0.001\n",
    "batch_size = 50\n",
    "test_batch_size = 50\n",
    "epochs = 150\n",
    "patience = 100\n",
    "min_delta = 0.01"
   ]
  },
  {
   "cell_type": "markdown",
   "metadata": {},
   "source": [
    "## Preelabora i dati"
   ]
  },
  {
   "cell_type": "code",
   "execution_count": 3,
   "metadata": {},
   "outputs": [],
   "source": [
    "df = pd.read_csv('patterns.csv')\n",
    "all = df.iloc[:, :].values.astype(np.float32)\n",
    "A = all[all[:,-1]<70]\n",
    "B = all[(all[:,-1]>=70)&(all[:,-1]<=83)]\n",
    "C = all[(all[:,-1]>=84)&(all[:,-1]<=98)] \n",
    "D = all[(all[:,-1]>=99)&(all[:,-1]<=113)] \n",
    "E = all[(all[:,-1]>=114)&(all[:,-1]<=128)] \n",
    "F = all[(all[:,-1]>=129)&(all[:,-1]<=143)] \n",
    "G = all[all[:,-1]>143]\n",
    "\n",
    "#prende solo una parte dei dati della categoria A\n",
    "A = A[0:330,:]\n",
    "\n",
    "#crea nuovamente il dataframe dopo aver pre-elaborato i dati\n",
    "data = np.concatenate((A,B,C,D,E,F,G), axis=0)\n",
    "np.random.shuffle(data)\n",
    "df = pd.DataFrame(data=data)"
   ]
  },
  {
   "cell_type": "markdown",
   "metadata": {},
   "source": [
    "## Ottiene i dati"
   ]
  },
  {
   "cell_type": "code",
   "execution_count": 4,
   "metadata": {},
   "outputs": [
    {
     "name": "stdout",
     "output_type": "stream",
     "text": [
      "A:  330\n",
      "B:  319\n",
      "C:  317\n",
      "D:  334\n",
      "E:  160\n",
      "F:  21\n",
      "G:  5\n"
     ]
    }
   ],
   "source": [
    "#df = pd.read_csv('patterns.csv')\n",
    "#print(df.head(5))\n",
    "       \n",
    "#ottiene gli input ed li divide in dummy variables\n",
    "if use_dummies_input:\n",
    "    #prende i dati in formato dummies e li concatena\n",
    "    X1 = pd.get_dummies(df.iloc[:, 0]).values.astype(np.float32)\n",
    "    X2 = pd.get_dummies(df.iloc[:, 24]).values.astype(np.float32)\n",
    "    for i in range(1,24):\n",
    "        X1_dummy = pd.get_dummies(df.iloc[:, i]).values.astype(np.float32)\n",
    "        X2_dummy = pd.get_dummies(df.iloc[:, i+24]).values.astype(np.float32)\n",
    "        X1 = np.concatenate((X1, X1_dummy), axis=1)\n",
    "        X2 = np.concatenate((X2, X2_dummy), axis=1)\n",
    "else:\n",
    "    #prende i dati e li ridimensiona\n",
    "    X1 = df.iloc[:, :24].values.astype(np.float32)\n",
    "    X2 = df.iloc[:, 24:48].values.astype(np.float32)\n",
    "\n",
    "X = np.abs(X1-X2)/5\n",
    "    \n",
    "#funzione di trasformazione in classi\n",
    "def transformToClass(yr):\n",
    "    yc = []\n",
    "    for i in range(len(yr)):\n",
    "        yi = np.zeros(7)\n",
    "        if (yr[i]<70):                  yi[0] = 1 #A\n",
    "        if (yr[i]>=70  and yr[i]<=83) : yi[1] = 1 #B\n",
    "        if (yr[i]>=84  and yr[i]<=98) : yi[2] = 1 #C\n",
    "        if (yr[i]>=99  and yr[i]<=113): yi[3] = 1 #D\n",
    "        if (yr[i]>=114 and yr[i]<=128): yi[4] = 1 #E\n",
    "        if (yr[i]>=129 and yr[i]<=143): yi[5] = 1 #F\n",
    "        if (yr[i]>143):                 yi[6] = 1 #G\n",
    "        yc.append(yi)\n",
    "    yr = np.array(yc)\n",
    "    return yr\n",
    "\n",
    "#funzione che conta gli elementi per ogni classe\n",
    "def printCountClass(yr):\n",
    "    print(\"A: \",len(yr[yr<70]))\n",
    "    print(\"B: \",len(yr[(yr>=70)&(yr<=83)]))\n",
    "    print(\"C: \",len(yr[(yr>=84)&(yr<=98)]))\n",
    "    print(\"D: \",len(yr[(yr>=99)&(yr<=113)]))\n",
    "    print(\"E: \",len(yr[(yr>=114)&(yr<=128)]))\n",
    "    print(\"F: \",len(yr[(yr>=129)&(yr<=143)]))\n",
    "    print(\"G: \",len(yr[yr>143]))\n",
    "\n",
    "#ottiene gli output e li trasforma in classi    \n",
    "y = df.iloc[:, -1].values.astype(np.float32)\n",
    "printCountClass(y)  \n",
    "y = transformToClass(y)\n",
    "\n",
    "#separa dati di train da dati di test\n",
    "test_size=0.33\n",
    "X_train, X_test, y_train, y_test = train_test_split(X, y, test_size=test_size, random_state=42)"
   ]
  },
  {
   "cell_type": "markdown",
   "metadata": {},
   "source": [
    "## Crea il modello"
   ]
  },
  {
   "cell_type": "code",
   "execution_count": 5,
   "metadata": {},
   "outputs": [],
   "source": [
    "tf.reset_default_graph()\n",
    "\n",
    "#crea i placeholder di input e output\n",
    "n_input = X.shape[1]\n",
    "x_input = tf.placeholder(dtype=tf.float32, shape=[None, n_input], name=\"X\")\n",
    "is_training = tf.placeholder(tf.bool, name=\"isTraining\")\n",
    "y_target = tf.placeholder(dtype=tf.float32, shape=[None, n_output], name='Y')"
   ]
  },
  {
   "cell_type": "code",
   "execution_count": 6,
   "metadata": {},
   "outputs": [],
   "source": [
    "#crea gli altri livelli hidden\n",
    "hidden_layer = x_input\n",
    "for i in range(0, len(n_hiddens)):\n",
    "    with tf.variable_scope(\"hidden_\"+str(i + 1)) as scope:\n",
    "        hidden_layer = tf.layers.dense(hidden_layer, n_hiddens[i], activation=activation_function)\n",
    "        if use_dropout:\n",
    "            hidden_layer = tf.layers.dropout(hidden_layer, rate=dropout_rate, training=is_training)\n",
    "    \n",
    "#crea il livello output\n",
    "with tf.variable_scope(\"output\") as scope:\n",
    "    output_layer = tf.layers.dense(hidden_layer, n_output)\n",
    "    \n",
    "prediction = tf.nn.softmax(output_layer)"
   ]
  },
  {
   "cell_type": "code",
   "execution_count": 7,
   "metadata": {},
   "outputs": [],
   "source": [
    "#crea la funzione di costo e l'optimizer\n",
    "#loss = tf.reduce_mean(tf.nn.softmax_cross_entropy_with_logits_v2(logits=output_layer, labels=y_target))\n",
    "#loss = tf.reduce_mean(-tf.reduce_sum(y_target * tf.log(output_layer), axis=1))\n",
    "#loss = tf.reduce_mean(tf.nn.sparse_softmax_cross_entropy_with_logits(logits=output_layer, labels=tf.argmax(y_target,1)))\n",
    "#loss = tf.losses.mean_squared_error(output_layer, y_target)\n",
    "loss = tf.reduce_mean(tf.nn.sigmoid_cross_entropy_with_logits(labels=y_target,logits=prediction))\n",
    "\n",
    "optimizer = tf.train.AdamOptimizer(learning_rate=learning_rate).minimize(loss)\n",
    "\n",
    "train_loss_summary = tf.summary.scalar('loss', loss)\n",
    "test_loss_summary = tf.summary.scalar('val_loss', loss)\n",
    "\n",
    "#ottiene l'accuracy\n",
    "def get_accuracy(logits, targets):\n",
    "    logits = np.argmax(logits, axis=1)\n",
    "    targets = np.argmax(targets, axis=1)\n",
    "    num_correct = np.sum(np.equal(logits, targets))\n",
    "    return(100. * num_correct/logits.shape[0])"
   ]
  },
  {
   "cell_type": "markdown",
   "metadata": {},
   "source": [
    "## Effettua il training"
   ]
  },
  {
   "cell_type": "code",
   "execution_count": 8,
   "metadata": {},
   "outputs": [],
   "source": [
    "#init\n",
    "sess = tf.Session()\n",
    "init = tf.global_variables_initializer()\n",
    "sess.run(init)\n",
    "writer = tf.summary.FileWriter(logdir='logs/'+logLabel , graph=tf.get_default_graph())\n",
    "saver = tf.train.Saver()\n"
   ]
  },
  {
   "cell_type": "code",
   "execution_count": 9,
   "metadata": {},
   "outputs": [
    {
     "data": {
      "text/plain": [
       "'./saved/model.ckpt'"
      ]
     },
     "execution_count": 9,
     "metadata": {},
     "output_type": "execute_result"
    }
   ],
   "source": [
    "#effettua il training\n",
    "train_history_loss = list()\n",
    "train_history_acc  = list()\n",
    "test_history_loss  = list()\n",
    "test_history_acc   = list()\n",
    "patience_cnt = 0\n",
    "res_prec_loss = float('inf')\n",
    "for epoch in range(epochs):\n",
    "    \n",
    "    #effettua il train di un batch di dati\n",
    "    rand_index = np.random.choice(len(y_train), size=batch_size)\n",
    "    res_optimizer, res_loss, res_train_lost_summary, res_prediction = sess.run(\n",
    "        [optimizer, loss, train_loss_summary, prediction], \n",
    "        feed_dict={\n",
    "          x_input: X_train[rand_index],\n",
    "          y_target: y_train[rand_index],\n",
    "          is_training: True\n",
    "        })\n",
    "    res_acc = get_accuracy(res_prediction, y_train[rand_index])\n",
    "    \n",
    "    #preiodicamente stampa la loss del train e ricalcola i dati di test per ottenere la loss di validazione\n",
    "    save_loss = epoch % int(print_period * epochs / 1000) == 0\n",
    "    if save_loss:\n",
    "        #conserva nell'history la loss e l'accuracy  di train\n",
    "        train_history_loss.append(res_loss)\n",
    "        train_history_acc.append(res_acc)\n",
    "        writer.add_summary(res_train_lost_summary, epoch)\n",
    "\n",
    "        #effettua la validazione di un batch di dati\n",
    "        rand_index = np.random.choice(len(y_test), size=test_batch_size)\n",
    "        res_test_loss, res_test_loss_summary, res_test_prediction = sess.run(\n",
    "            [loss, test_loss_summary, prediction], \n",
    "            feed_dict={\n",
    "              x_input: X_test[rand_index],\n",
    "              y_target: y_test[rand_index],\n",
    "              is_training: False\n",
    "            })\n",
    "        \n",
    "        #ottiene l'accuracy del test\n",
    "        res_test_acc = get_accuracy(res_test_prediction, y_test[rand_index])\n",
    "        \n",
    "        #conserva nell'history la loss e l'accuracy di validazione\n",
    "        test_history_loss.append(res_test_loss)\n",
    "        test_history_acc.append(res_test_acc)\n",
    "        writer.add_summary(res_test_loss_summary, epoch)\n",
    "\n",
    "    #gestisce l'early stopping\n",
    "    if epoch > 0 and res_prec_loss-res_loss > min_delta:\n",
    "        patience_cnt = 0\n",
    "    else:\n",
    "        patience_cnt += 1\n",
    "    res_prec_loss = res_loss\n",
    "    if patience_cnt > patience:\n",
    "        print(\"early stopping... epoch: \", epoch)\n",
    "        break\n",
    "           \n",
    "#salva il modello e gli scaler\n",
    "saver.save(sess, \"./saved/model.ckpt\")"
   ]
  },
  {
   "cell_type": "markdown",
   "metadata": {},
   "source": [
    "## Stampa le perdite"
   ]
  },
  {
   "cell_type": "code",
   "execution_count": 10,
   "metadata": {},
   "outputs": [
    {
     "data": {
      "image/png": "[encoded data removed]",
      "text/plain": [
       "<Figure size 432x288 with 1 Axes>"
      ]
     },
     "metadata": {},
     "output_type": "display_data"
    },
    {
     "data": {
      "image/png": "[encoded data removed]",
      "text/plain": [
       "<Figure size 432x288 with 1 Axes>"
      ]
     },
     "metadata": {},
     "output_type": "display_data"
    }
   ],
   "source": [
    "#stampo la perdita e l'accuracy\n",
    "start_plot_index = 0\n",
    "\n",
    "plt.plot(train_history_loss[start_plot_index:], 'blue', label='Train Loss')\n",
    "plt.plot(test_history_loss[start_plot_index:], 'orange', label='Val Loss')\n",
    "plt.title('Loss (MSE) per Epochs')\n",
    "plt.xlabel('Epochs')\n",
    "plt.ylabel('Loss')\n",
    "plt.legend(loc='upper right')\n",
    "plt.show()\n",
    "\n",
    "plt.plot(train_history_acc[start_plot_index:], 'blue', label='Train Acc')\n",
    "plt.plot(test_history_acc[start_plot_index:], 'orange', label='Val Acc')\n",
    "plt.title('Accuracy per Epochs')\n",
    "plt.xlabel('Epochs')\n",
    "plt.ylabel('Accuracy')\n",
    "plt.legend(loc='upper right')\n",
    "plt.show()"
   ]
  },
  {
   "cell_type": "markdown",
   "metadata": {},
   "source": [
    "## Effettua le predictions"
   ]
  },
  {
   "cell_type": "code",
   "execution_count": 11,
   "metadata": {},
   "outputs": [],
   "source": [
    "#ottiene l'output dai dati di test \n",
    "res_prediction, res_output_layer = sess.run(\n",
    "    [prediction, output_layer], \n",
    "    feed_dict={\n",
    "      x_input: X_test,\n",
    "      is_training: False\n",
    "    })\n",
    "\n",
    "#print(\"Output:\")\n",
    "#print(res_output_layer[:5])\n",
    "#print(\"Predictions:\")\n",
    "#print(res_prediction[:5])\n",
    "\n",
    "#trasforma gli output in predictions\n",
    "predictions = np.zeros_like(res_prediction)\n",
    "for i in range(len(res_prediction)):\n",
    "    predictions[i, np.argmax(res_prediction[i])] = 1\n",
    "\n",
    "#print(\"Predictions:\")\n",
    "#print(predictions[20:35])\n",
    "#print(\"Labels:\")\n",
    "#print(y_test[20:35])"
   ]
  },
  {
   "cell_type": "markdown",
   "metadata": {},
   "source": [
    "## Valuta il modello"
   ]
  },
  {
   "cell_type": "code",
   "execution_count": 12,
   "metadata": {},
   "outputs": [
    {
     "name": "stderr",
     "output_type": "stream",
     "text": [
      "C:\\Users\\Utente\\Anaconda3\\lib\\site-packages\\sklearn\\metrics\\classification.py:1135: UndefinedMetricWarning: Precision is ill-defined and being set to 0.0 in labels with no predicted samples.\n",
      "  'precision', 'predicted', average, warn_for)\n",
      "C:\\Users\\Utente\\Anaconda3\\lib\\site-packages\\sklearn\\metrics\\classification.py:1135: UndefinedMetricWarning: F-score is ill-defined and being set to 0.0 in labels with no predicted samples.\n",
      "  'precision', 'predicted', average, warn_for)\n"
     ]
    },
    {
     "name": "stdout",
     "output_type": "stream",
     "text": [
      "accuracy_score: 0.5153\n",
      "precision_score: 0.5279\n",
      "recall_score: 0.5153\n",
      "f1_score: 0.4071\n"
     ]
    },
    {
     "data": {
      "text/plain": [
       "<matplotlib.axes._subplots.AxesSubplot at 0x1412966a160>"
      ]
     },
     "execution_count": 12,
     "metadata": {},
     "output_type": "execute_result"
    },
    {
     "data": {
      "image/png": "[encoded data removed]",
      "text/plain": [
       "<Figure size 720x504 with 2 Axes>"
      ]
     },
     "metadata": {},
     "output_type": "display_data"
    }
   ],
   "source": [
    "predictions_max = np.argmax(predictions, axis=1)\n",
    "y_test_max = np.argmax(y_test, axis=1)\n",
    "\n",
    "#calcola gli score\n",
    "accuracy_score_val = accuracy_score(y_test_max, predictions_max)\n",
    "precision_score_val = precision_score(y_test_max, predictions_max, average='weighted') # tp / (tp + fp)\n",
    "recall_score_val = recall_score(y_test_max, predictions_max, average='weighted') # tp / (tp + fn)\n",
    "f1_score_val = f1_score(y_test_max, predictions_max, average='weighted')\n",
    "\n",
    "#stampa gli score\n",
    "print(\"accuracy_score: %0.4f\" % accuracy_score_val)\n",
    "print(\"precision_score: %0.4f\" % precision_score_val)\n",
    "print(\"recall_score: %0.4f\" % recall_score_val)\n",
    "print(\"f1_score: %0.4f\" % f1_score_val)\n",
    "\n",
    "#ottiene e stampa la confusion matrix\n",
    "categories = ('A','B','C','D','E','F','G')\n",
    "cm = confusion_matrix(y_test_max, predictions_max)\n",
    "df_cm = pd.DataFrame(cm, \n",
    "                     index = [i for i in range(cm.shape[1])],\n",
    "                     columns = [i for i in range(cm.shape[1])])\n",
    "plt.figure(figsize = (10,7))\n",
    "sn.heatmap(df_cm, annot=True, cmap='Blues', fmt='g')"
   ]
  },
  {
   "cell_type": "code",
   "execution_count": null,
   "metadata": {},
   "outputs": [],
   "source": []
  }
 ],
 "metadata": {
  "kernelspec": {
   "display_name": "Python 3",
   "language": "python",
   "name": "python3"
  },
  "language_info": {
   "codemirror_mode": {
    "name": "ipython",
    "version": 3
   },
   "file_extension": ".py",
   "mimetype": "text/x-python",
   "name": "python",
   "nbconvert_exporter": "python",
   "pygments_lexer": "ipython3",
   "version": "3.6.5"
  }
 },
 "nbformat": 4,
 "nbformat_minor": 2
}
