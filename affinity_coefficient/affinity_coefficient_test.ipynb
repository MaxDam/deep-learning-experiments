{
 "cells": [
  {
   "cell_type": "code",
   "execution_count": 1,
   "metadata": {},
   "outputs": [
    {
     "name": "stderr",
     "output_type": "stream",
     "text": [
      "/anaconda3/lib/python3.6/importlib/_bootstrap.py:219: RuntimeWarning: compiletime version 3.5 of module 'tensorflow.python.framework.fast_tensor_util' does not match runtime version 3.6\n",
      "  return f(*args, **kwds)\n",
      "/anaconda3/lib/python3.6/site-packages/h5py/__init__.py:36: FutureWarning: Conversion of the second argument of issubdtype from `float` to `np.floating` is deprecated. In future, it will be treated as `np.float64 == np.dtype(float).type`.\n",
      "  from ._conv import register_converters as _register_converters\n"
     ]
    }
   ],
   "source": [
    "import tensorflow as tf\n",
    "import pandas as pd\n",
    "import numpy as np\n",
    "import matplotlib.pyplot as plt\n",
    "%matplotlib inline\n",
    "from sklearn import preprocessing\n",
    "from sklearn.model_selection import train_test_split\n",
    "from sklearn.externals import joblib\n",
    "from sklearn.metrics import mean_squared_error, mean_absolute_error\n",
    "from sklearn.metrics import r2_score\n",
    "import random"
   ]
  },
  {
   "cell_type": "markdown",
   "metadata": {},
   "source": [
    "## Iperparametri"
   ]
  },
  {
   "cell_type": "code",
   "execution_count": 2,
   "metadata": {},
   "outputs": [],
   "source": [
    "#general\n",
    "logLabel = \"log44\"\n",
    "print_period = 50\n",
    "use_dummies_input = True\n",
    "\n",
    "#regularizzation\n",
    "use_dropout = False\n",
    "input_dropout_rate = 0.3\n",
    "dropout_rate = 0.5\n",
    "\n",
    "#layer size\n",
    "use_layer_regression = True\n",
    "hidden_layers = 1\n",
    "n_hidden = 50\n",
    "activation_function = tf.nn.relu\n",
    "\n",
    "#training\n",
    "learning_rate = 0.01\n",
    "scale_input_data = False\n",
    "scale_output_data = True\n",
    "batch_size = 10\n",
    "epochs = 3000\n",
    "patience = 16\n",
    "min_delta = 0.001"
   ]
  },
  {
   "cell_type": "markdown",
   "metadata": {},
   "source": [
    "## Ottiene i dati"
   ]
  },
  {
   "cell_type": "code",
   "execution_count": 3,
   "metadata": {},
   "outputs": [],
   "source": [
    "df = pd.read_csv('patterns.csv')\n",
    "#print(df.head(5))\n",
    "\n",
    "#ottiene input e output\n",
    "if use_dummies_input:\n",
    "    X1 = pd.get_dummies(df.iloc[:, 0]).values.astype(np.float32)\n",
    "    X2 = pd.get_dummies(df.iloc[:, 24]).values.astype(np.float32)\n",
    "    for i in range(1,24):\n",
    "        X1_dummy = pd.get_dummies(df.iloc[:, i]).values.astype(np.float32)\n",
    "        X2_dummy = pd.get_dummies(df.iloc[:, i+24]).values.astype(np.float32)\n",
    "        X1 = np.concatenate((X1, X1_dummy), axis=1)\n",
    "        X2 = np.concatenate((X2, X2_dummy), axis=1)\n",
    "else:\n",
    "    X1 = df.iloc[:, :24].values.astype(np.float32)\n",
    "    X2 = df.iloc[:, 24:48].values.astype(np.float32)\n",
    "Y = df.iloc[:, -1:].values.astype(np.float32)\n",
    "\n",
    "#separa dati di train da dati di test\n",
    "test_size=0.33\n",
    "X1_train, X1_test, X2_train, X2_test, Y_train, Y_test = train_test_split(X1, X2, Y, test_size=test_size, random_state=42)\n"
   ]
  },
  {
   "cell_type": "markdown",
   "metadata": {},
   "source": [
    "## Crea il modello"
   ]
  },
  {
   "cell_type": "code",
   "execution_count": 4,
   "metadata": {},
   "outputs": [],
   "source": [
    "tf.reset_default_graph()\n",
    "\n",
    "#crea i placeholder di input\n",
    "n_input = X1.shape[1]\n",
    "inputplaceholder1 = tf.placeholder(dtype=tf.float32, shape=[None, n_input], name=\"X1\")\n",
    "inputplaceholder2 = tf.placeholder(dtype=tf.float32, shape=[None, n_input], name=\"X2\")\n",
    "is_training = tf.placeholder(tf.bool, name=\"isTraining\")\n",
    "input_regressions = []\n",
    "\n",
    "#crea un unico livello di input, per avere solo un hidden layer denso (da commentare le successive 2 sezioni)\n",
    "if not use_layer_regression:\n",
    "    input_regressions.append(inputplaceholder1)\n",
    "    input_regressions.append(inputplaceholder2)"
   ]
  },
  {
   "cell_type": "code",
   "execution_count": 5,
   "metadata": {},
   "outputs": [],
   "source": [
    "if use_layer_regression:\n",
    "    #2 regressioni full\n",
    "    with tf.variable_scope(\"regression_full1\") as scope:\n",
    "        #weights = tf.Variable(tf.random_normal([n_input, 1]))\n",
    "        #biases = tf.Variable(tf.zeros([1]))\n",
    "        #layer = tf.matmul(inputplaceholder1, weights)\n",
    "        #layer = tf.add(layer, biases)\n",
    "        #layer_full_1 = tf.nn.sigmoid(layer)\n",
    "        layer_full_1 = tf.layers.dense(inputplaceholder1, 1, activation=activation_function)\n",
    "        if use_dropout:\n",
    "                layer_full_1 = tf.layers.dropout(layer_full_1, rate=input_dropout_rate, training=is_training)\n",
    "        input_regressions.append(layer_full_1)\n",
    "    \n",
    "    with tf.variable_scope(\"regression_full2\") as scope:\n",
    "        #weights = tf.Variable(tf.random_normal([n_input, 1]))\n",
    "        #biases = tf.Variable(tf.zeros([1]))\n",
    "        #layer = tf.matmul(inputplaceholder2, weights)\n",
    "        #layer = tf.add(layer, biases)\n",
    "        #layer_full_2 = tf.nn.sigmoid(layer)\n",
    "        layer_full_2 = tf.layers.dense(inputplaceholder2, 1, activation=activation_function)\n",
    "        if use_dropout:\n",
    "                layer_full_2 = tf.layers.dropout(layer_full_2, rate=input_dropout_rate, training=is_training)\n",
    "        input_regressions.append(layer_full_2)"
   ]
  },
  {
   "cell_type": "code",
   "execution_count": 6,
   "metadata": {},
   "outputs": [],
   "source": [
    "if use_layer_regression:\n",
    "    #per ogni coppia di input crea una regressione\n",
    "    with tf.variable_scope(\"regression_couple\") as scope:    \n",
    "        for i in range(n_input):\n",
    "            if use_dummies_input:\n",
    "                layer_input = tf.concat([inputplaceholder1[:, i:i+5+1], inputplaceholder2[:, i:i+5+1]], 1)\n",
    "            else:    \n",
    "                layer_input = tf.concat([inputplaceholder1[:, i:i+1], inputplaceholder2[:, i:i+1]], 1)\n",
    "            #weights = tf.Variable(tf.random_normal([2, 1]))\n",
    "            #biases = tf.Variable(tf.zeros([1]))\n",
    "            #layer = tf.matmul(layer_input, weights)\n",
    "            #layer = tf.add(layer, biases)\n",
    "            #layer = tf.nn.sigmoid(layer)\n",
    "            layer = tf.layers.dense(layer_input, 1, activation=activation_function)\n",
    "            if use_dropout:\n",
    "                layer = tf.layers.dropout(layer, rate=input_dropout_rate, training=is_training)\n",
    "            input_regressions.append(layer)"
   ]
  },
  {
   "cell_type": "code",
   "execution_count": 7,
   "metadata": {},
   "outputs": [],
   "source": [
    "#concatena tutte le regressioni di ingresso (o solo gli input)\n",
    "regression_layer = tf.concat(input_regressions, 1)\n",
    "\n",
    "#crea il primo livello hidden\n",
    "with tf.variable_scope(\"hidden_1\") as scope:\n",
    "    #regression_layer_size = int(regression_layer.shape[1])\n",
    "    #weights = tf.Variable(tf.random_normal([regression_layer_size, n_hidden]))\n",
    "    #biases = tf.Variable(tf.zeros([n_hidden]))\n",
    "    #layer = tf.matmul(regression_layer, weights)\n",
    "    #layer = tf.add(layer, biases)\n",
    "    #hidden_layer = tf.nn.sigmoid(layer)\n",
    "    hidden_layer = tf.layers.dense(regression_layer, n_hidden, activation=activation_function)\n",
    "    if use_dropout:\n",
    "        hidden_layer = tf.layers.dropout(hidden_layer, rate=dropout_rate, training=is_training)\n",
    "\n",
    "#crea gli altri livelli hidden\n",
    "for i in range(2, hidden_layers + 1):\n",
    "    with tf.variable_scope(\"hidden_\"+str(i)) as scope:\n",
    "        #weights = tf.Variable(tf.random_normal([n_hidden, n_hidden]))\n",
    "        #biases = tf.Variable(tf.zeros([n_hidden]))\n",
    "        #layer = tf.matmul(hidden_layer, weights)\n",
    "        #layer = tf.add(layer, biases)\n",
    "        #hidden_layer = tf.nn.sigmoid(layer)\n",
    "        hidden_layer = tf.layers.dense(hidden_layer, n_hidden, activation=activation_function)\n",
    "        if use_dropout:\n",
    "            hidden_layer = tf.layers.dropout(hidden_layer, rate=dropout_rate, training=is_training)\n",
    "    \n",
    "#crea il livello output\n",
    "n_output = 1\n",
    "with tf.variable_scope(\"output\") as scope:\n",
    "    #weights = tf.Variable(tf.random_normal([n_hidden, n_output]))\n",
    "    #biases = tf.Variable(tf.zeros([n_output]))\n",
    "    #layer = tf.matmul(hidden_layer, weights)\n",
    "    #layer = tf.add(layer, biases)\n",
    "    output_layer = tf.layers.dense(hidden_layer, n_output)"
   ]
  },
  {
   "cell_type": "code",
   "execution_count": 8,
   "metadata": {},
   "outputs": [],
   "source": [
    "#crea il placeholder delle label, la funzione di costo e l'optimizer\n",
    "labelsplaceholder = tf.placeholder(dtype=tf.float32, shape=[None,n_output], name='Y')\n",
    "loss = tf.losses.mean_squared_error(labelsplaceholder, output_layer)\n",
    "\n",
    "#optimizer = tf.train.GradientDescentOptimizer(learning_rate=learning_rate).minimize(loss)\n",
    "optimizer = tf.train.AdamOptimizer(learning_rate=learning_rate).minimize(loss)\n",
    "\n",
    "train_loss_summary = tf.summary.scalar('loss', loss)\n",
    "test_loss_summary = tf.summary.scalar('val_loss', loss)"
   ]
  },
  {
   "cell_type": "markdown",
   "metadata": {},
   "source": [
    "## Effettua il training"
   ]
  },
  {
   "cell_type": "code",
   "execution_count": 9,
   "metadata": {},
   "outputs": [],
   "source": [
    "#init\n",
    "sess = tf.Session()\n",
    "init = tf.global_variables_initializer()\n",
    "sess.run(init)\n",
    "writer = tf.summary.FileWriter(logdir='logs/'+logLabel , graph=tf.get_default_graph())\n",
    "saver = tf.train.Saver()\n",
    "\n",
    "#effettua lo scaler dei dati di ingresso\n",
    "if scale_input_data:\n",
    "    X_alldata = np.concatenate((X1, X2), axis=0)\n",
    "    scalerX = preprocessing.MinMaxScaler().fit(X_alldata)\n",
    "    X1_train_scaled = scalerX.transform(X1_train)\n",
    "    X2_train_scaled = scalerX.transform(X2_train)\n",
    "    X1_test_scaled = scalerX.transform(X1_test)\n",
    "    X2_test_scaled = scalerX.transform(X2_test)\n",
    "else:\n",
    "    X1_train_scaled = X1_train\n",
    "    X2_train_scaled = X2_train\n",
    "    X1_test_scaled = X1_test\n",
    "    X2_test_scaled = X2_test\n",
    "\n",
    "#effettua lo scaler dei dati di uscita\n",
    "if scale_output_data:\n",
    "    scalerY = preprocessing.MinMaxScaler().fit(Y)\n",
    "    Y_train_scaled = scalerY.transform(Y_train)\n",
    "    Y_test_scaled = scalerY.transform(Y_test)\n",
    "else:\n",
    "    Y_train_scaled = Y_train\n",
    "    Y_test_scaled = Y_test"
   ]
  },
  {
   "cell_type": "code",
   "execution_count": 10,
   "metadata": {},
   "outputs": [],
   "source": [
    "#effettua il training\n",
    "train_history_loss = list()\n",
    "test_history_loss  = list()\n",
    "patience_cnt = 0\n",
    "res_prec_loss = float('inf')\n",
    "for epoch in range(epochs):\n",
    "    \n",
    "    #prepara il batch\n",
    "    inputdata1 = list()\n",
    "    inputdata2 = list()\n",
    "    output_data = list()\n",
    "    for _ in range(batch_size):\n",
    "        i = np.random.randint(len(Y_train))\n",
    "        inputdata1.append(X1_train_scaled[i,:])\n",
    "        inputdata2.append(X2_train_scaled[i,:])\n",
    "        output_data.append(Y_train_scaled[i,:])\n",
    "\n",
    "    #effettua il train\n",
    "    feed_dict = {\n",
    "      labelsplaceholder: output_data,\n",
    "      inputplaceholder1: inputdata1,\n",
    "      inputplaceholder2: inputdata2,\n",
    "      is_training: True\n",
    "    }\n",
    "    res_optimizer, res_loss, res_train_lost_summary = sess.run([optimizer, loss, train_loss_summary], feed_dict=feed_dict)\n",
    "    \n",
    "    #preiodicamente stampa la loss del train e ricalcola i dati di test per ottenere la loss di validazione\n",
    "    save_loss = epoch % int(print_period * epochs / 1000) == 0\n",
    "    if save_loss:\n",
    "        #conserva la loss di train\n",
    "        train_history_loss.append(res_loss)\n",
    "        writer.add_summary(res_train_lost_summary, epoch)\n",
    "\n",
    "        #effettua la validazione\n",
    "        i = np.random.randint(len(Y_test))\n",
    "        feed_dict = {\n",
    "          labelsplaceholder: [Y_test_scaled[i,:]],\n",
    "          inputplaceholder1: [X1_test_scaled[i,:]],\n",
    "          inputplaceholder2: [X2_test_scaled[i,:]],\n",
    "          is_training: False\n",
    "        }\n",
    "        res_loss, res_test_loss_summary = sess.run([loss, test_loss_summary], feed_dict=feed_dict)\n",
    "        \n",
    "        #conserva la loss di validazione\n",
    "        test_history_loss.append(res_loss)\n",
    "        writer.add_summary(res_test_loss_summary, epoch)\n",
    "\n",
    "    #gestisce l'early stopping\n",
    "    if epoch > 0 and res_prec_loss-res_loss > min_delta:\n",
    "        patience_cnt = 0\n",
    "    else:\n",
    "        patience_cnt += 1\n",
    "    res_prec_loss = res_loss\n",
    "    if patience_cnt > patience:\n",
    "        print(\"early stopping... epoch: \", epoch)\n",
    "        break\n",
    "           \n",
    "#salva il modello e gli scaler\n",
    "saver.save(sess, \"./saved/model.ckpt\")\n",
    "if scale_input_data:\n",
    "    joblib.dump(scalerX, './saved/scalerX.pkl') \n",
    "if scale_output_data:\n",
    "    joblib.dump(scalerY, './saved/scalerY.pkl') "
   ]
  },
  {
   "cell_type": "markdown",
   "metadata": {},
   "source": [
    "## Stampa le perdite"
   ]
  },
  {
   "cell_type": "code",
   "execution_count": 11,
   "metadata": {},
   "outputs": [
    {
     "data": {
      "image/png": "[encoded data removed]",
      "text/plain": [
       "<Figure size 432x288 with 1 Axes>"
      ]
     },
     "metadata": {},
     "output_type": "display_data"
    }
   ],
   "source": [
    "#stampo la perdita\n",
    "start_plot_index = 0\n",
    "plt.plot(train_history_loss[start_plot_index:], 'blue', label='Train Loss')\n",
    "plt.plot(test_history_loss[start_plot_index:], 'orange', label='Val Loss')\n",
    "plt.title('Loss (MSE) per Epochs')\n",
    "plt.xlabel('Epochs')\n",
    "plt.ylabel('Loss')\n",
    "plt.legend(loc='upper right')\n",
    "plt.show()"
   ]
  },
  {
   "cell_type": "markdown",
   "metadata": {},
   "source": [
    "## Effettua le predictions"
   ]
  },
  {
   "cell_type": "code",
   "execution_count": 12,
   "metadata": {},
   "outputs": [],
   "source": [
    "#ottiene l'output dai dati di test\n",
    "feed_dict = {\n",
    "  inputplaceholder1: X1_test_scaled,\n",
    "  inputplaceholder2: X2_test_scaled,\n",
    "  is_training: False\n",
    "}\n",
    "res_output_layer = sess.run([output_layer], feed_dict=feed_dict)\n",
    "\n",
    "#trasforma gli output in predictions\n",
    "predictions = []\n",
    "res_output_layer_unscaled = scalerY.inverse_transform(res_output_layer[0])\n",
    "for i in range(len(res_output_layer_unscaled)):\n",
    "    predictions.append(res_output_layer_unscaled[i][0])\n",
    "\n",
    "#trasforma i dati Y di test in labels    \n",
    "labels = []\n",
    "for i in range(len(Y_test)):\n",
    "    labels.append(Y_test[i][0])"
   ]
  },
  {
   "cell_type": "code",
   "execution_count": 13,
   "metadata": {},
   "outputs": [],
   "source": [
    "\n",
    "##prova una support vector machine\n",
    "#from sklearn.svm import SVR\n",
    "#svr = SVR(kernel='poly', C=1e3, degree=2)\n",
    "#X_train = np.concatenate((X1_train_scaled, X2_train_scaled), axis=1)\n",
    "#X_test = np.concatenate((X1_test_scaled, X2_test_scaled), axis=1)\n",
    "#svr.fit(X_train, Y_train)\n",
    "#predictions = svr.predict(X_test)"
   ]
  },
  {
   "cell_type": "markdown",
   "metadata": {},
   "source": [
    "## Valuta il modello"
   ]
  },
  {
   "cell_type": "code",
   "execution_count": 14,
   "metadata": {},
   "outputs": [
    {
     "data": {
      "image/png": "[encoded data removed]",
      "text/plain": [
       "<Figure size 432x288 with 1 Axes>"
      ]
     },
     "metadata": {},
     "output_type": "display_data"
    },
    {
     "data": {
      "image/png": "[encoded data removed]",
      "text/plain": [
       "<Figure size 432x288 with 1 Axes>"
      ]
     },
     "metadata": {},
     "output_type": "display_data"
    },
    {
     "data": {
      "image/png": "[encoded data removed]",
      "text/plain": [
       "<Figure size 432x288 with 1 Axes>"
      ]
     },
     "metadata": {},
     "output_type": "display_data"
    },
    {
     "name": "stdout",
     "output_type": "stream",
     "text": [
      "MAE:  11.936453  (→ 0)\n",
      "RMSE:  15.098153998101576  (→ 0)\n",
      "R^2:  0.6714931028047824  (→ 1)\n"
     ]
    }
   ],
   "source": [
    "#ottiene l' R^2 score (ottimo valore se tendente a 1)\n",
    "r_square = r2_score(labels, predictions) \n",
    "\n",
    "#ottiene il Mean Absolute Error (MAE) (ottimo valore se tendente a 0)\n",
    "mae = mean_absolute_error(labels, predictions)\n",
    "\n",
    "#ottiene il Root Mean Squared Error (RMSE) (ottimo valore se tendente a 0)\n",
    "rmse = mean_squared_error(labels, predictions)**0.5\n",
    "\n",
    "#stampa le varie discrepanze (differenza tra il valore atteso ed il valore predetto)\n",
    "discrepancies = []\n",
    "for i in range(len(labels)):\n",
    "    discrepancies.append(labels[i]-predictions[i])\n",
    "plt.title('Evaluating regression model')\n",
    "plt.plot(discrepancies, label='Discrepancies', color='orange')\n",
    "plt.axhline(y=mae, color='b', linestyle='--', label='MAE')\n",
    "plt.axhline(y=-mae, color='b', linestyle='--')\n",
    "plt.axhline(y=rmse, color='r', linestyle='--', label='RMSE')\n",
    "plt.axhline(y=-rmse, color='r', linestyle='--')\n",
    "plt.axhline(y=-0, color='g', linestyle='--')\n",
    "plt.legend(loc='upper right')\n",
    "plt.show()\n",
    "\n",
    "#predictions e true value\n",
    "plt.scatter(labels, predictions, color='blue')\n",
    "plt.xlabel('True Values')\n",
    "plt.ylabel('Predictions')\n",
    "plt.title('Prediction and true value')\n",
    "plt.xlim([0,plt.xlim()[1]])\n",
    "plt.ylim([0,plt.ylim()[1]])\n",
    "plt.plot([-500, 500], [-500, 500])\n",
    "plt.show()\n",
    "\n",
    "#distribuzione degli errori\n",
    "plt.hist(discrepancies, bins=25, color='green')\n",
    "plt.title(\"Prediction Error\")\n",
    "plt.show()\n",
    "\n",
    "#stampa i risultati\n",
    "print(\"MAE: \", mae, \" (→ 0)\")\n",
    "print(\"RMSE: \", rmse, \" (→ 0)\")\n",
    "print(\"R^2: \", r_square, \" (→ 1)\")"
   ]
  },
  {
   "cell_type": "code",
   "execution_count": null,
   "metadata": {},
   "outputs": [],
   "source": []
  }
 ],
 "metadata": {
  "kernelspec": {
   "display_name": "Python 3",
   "language": "python",
   "name": "python3"
  },
  "language_info": {
   "codemirror_mode": {
    "name": "ipython",
    "version": 3
   },
   "file_extension": ".py",
   "mimetype": "text/x-python",
   "name": "python",
   "nbconvert_exporter": "python",
   "pygments_lexer": "ipython3",
   "version": "3.6.5"
  }
 },
 "nbformat": 4,
 "nbformat_minor": 2
}
