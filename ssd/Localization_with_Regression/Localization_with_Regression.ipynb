{
  "nbformat": 4,
  "nbformat_minor": 0,
  "metadata": {
    "colab": {
      "name": "Localization_with_Regression.ipynb",
      "provenance": [],
      "collapsed_sections": [],
      "toc_visible": true,
      "machine_shape": "hm"
    },
    "kernelspec": {
      "name": "python3",
      "display_name": "Python 3"
    },
    "accelerator": "GPU"
  },
  "cells": [
    {
      "cell_type": "markdown",
      "metadata": {
        "id": "m5YBsdeoakjv",
        "colab_type": "text"
      },
      "source": [
        "# Object Detection with Bounding Box Regression\n",
        "\n",
        "This notebook will demonstrate some of the basic steps in object detection. Bounding box regression, as the name suggests, makes a regressor model which directly outputs the bounding box coordinates given an image.\n",
        "\n",
        "This concept has been internal to object detectors like [YOLO](https://arxiv.org/abs/1506.02640).\n",
        "\n",
        "Note: If you are running this notebook on Colab itself, I insist you turn on the GPU runtime. Go to **Tools ~> Runtime ~> Change runtime type ~> Hardware Accelerator ~> Select \"GPU\"**\n",
        "\n",
        "Let's Start!\n",
        "\n"
      ]
    },
    {
      "cell_type": "markdown",
      "metadata": {
        "id": "TWtbHg3UddHf",
        "colab_type": "text"
      },
      "source": [
        "\n",
        "## 1) Importing the packages\n",
        "\n",
        "We import TensorFlow and Keras along with our beloved NumPy. We print the TensorFlow version we're using.\n"
      ]
    },
    {
      "cell_type": "code",
      "metadata": {
        "id": "VTg_2ZBqFM2C",
        "colab_type": "code",
        "outputId": "f0192e4c-ca8b-4769-c0b4-ee86e966a60f",
        "colab": {
          "base_uri": "https://localhost:8080/",
          "height": 34
        }
      },
      "source": [
        "\n",
        "from tensorflow import keras\n",
        "from tensorflow.keras import backend as K\n",
        "import tensorflow as tf\n",
        "import numpy as np\n",
        "\n",
        "print( tf.VERSION )\n"
      ],
      "execution_count": 0,
      "outputs": [
        {
          "output_type": "stream",
          "text": [
            "1.14.0\n"
          ],
          "name": "stdout"
        }
      ]
    },
    {
      "cell_type": "markdown",
      "metadata": {
        "id": "xyVzlExRduu-",
        "colab_type": "text"
      },
      "source": [
        "## 2) Downloading the data from GitHub\n",
        "\n",
        "We need to download our dataset from the [Dataset_Archives](https://github.com/shubham0204/Dataset_Archives) repo where I have hosted a ZIP file of the dataset. The original dataset hails from [Kaggle.com](https://www.kaggle.com) as [Image Localization Dataset](https://www.kaggle.com/mbkinaci/image-localization-dataset) by [Muhammed Buyukkinaci](https://www.kaggle.com/mbkinaci).\n",
        "\n",
        "Also, we install the [xmltodict](https://pypi.org/project/xmltodict/) package from PyPI which will be useful to parse the XML files containing the bounding box annotations.\n"
      ]
    },
    {
      "cell_type": "code",
      "metadata": {
        "id": "-dIf16k6FT68",
        "colab_type": "code",
        "outputId": "dd17d936-7691-4a53-ad21-98bc92028e9b",
        "colab": {
          "base_uri": "https://localhost:8080/",
          "height": 85
        }
      },
      "source": [
        "\n",
        "!pip install xmltodict\n",
        "\n",
        "import requests, zipfile, io\n",
        "\n",
        "r = requests.get( 'https://github.com/shubham0204/Dataset_Archives/blob/master/image-localization-dataset.zip?raw=true' ) \n",
        "z = zipfile.ZipFile(io.BytesIO(r.content))\n",
        "z.extractall()\n"
      ],
      "execution_count": 0,
      "outputs": [
        {
          "output_type": "stream",
          "text": [
            "Collecting xmltodict\n",
            "  Downloading https://files.pythonhosted.org/packages/28/fd/30d5c1d3ac29ce229f6bdc40bbc20b28f716e8b363140c26eff19122d8a5/xmltodict-0.12.0-py2.py3-none-any.whl\n",
            "Installing collected packages: xmltodict\n",
            "Successfully installed xmltodict-0.12.0\n"
          ],
          "name": "stdout"
        }
      ]
    },
    {
      "cell_type": "markdown",
      "metadata": {
        "id": "b28zal0_fEqi",
        "colab_type": "text"
      },
      "source": [
        "## 3) Defining useful variables\n",
        "\n",
        "Below are some variables which help us in training and preprocessing steps.\n",
        "\n",
        "1.   `input_dim` : The dimensions of input image.\n",
        "2.   `num_classes` : The number of classes we need to predict.\n",
        "3.   `pred_vector_length` : This will be the length of the final output of our CNN. The vector will consists of 4 bounding box coordinates and 3 class probabilities ( 4 + 3 = 7 ).\n",
        "\n"
      ]
    },
    {
      "cell_type": "code",
      "metadata": {
        "id": "JMVxJEhUZ2HQ",
        "colab_type": "code",
        "colab": {}
      },
      "source": [
        "\n",
        "input_dim = 228\n",
        "num_classes = 3\n",
        "pred_vector_length = 4 + num_classes\n"
      ],
      "execution_count": 0,
      "outputs": []
    },
    {
      "cell_type": "markdown",
      "metadata": {
        "id": "2DERx3xbf8zH",
        "colab_type": "text"
      },
      "source": [
        "## 4) Parsing the images from the dataset\n",
        "\n",
        "We prepare a list of all the files under `training_images` folder which have a `*.jpg` extension ( image files ) using `glob`. We resize them to the `input_dim` and normalize them."
      ]
    },
    {
      "cell_type": "code",
      "metadata": {
        "id": "bP8pq3CFFW-5",
        "colab_type": "code",
        "colab": {}
      },
      "source": [
        "\n",
        "from PIL import Image , ImageDraw\n",
        "import os\n",
        "import glob\n",
        "\n",
        "images = []\n",
        "image_paths = glob.glob( 'training_images/*.jpg' )\n",
        "for imagefile in image_paths:\n",
        "    image = Image.open( imagefile ).resize( ( input_dim , input_dim ))\n",
        "    image = np.asarray( image ) / 255.0\n",
        "    images.append( image )\n"
      ],
      "execution_count": 0,
      "outputs": []
    },
    {
      "cell_type": "markdown",
      "metadata": {
        "id": "Kgu_4WTPggsO",
        "colab_type": "text"
      },
      "source": [
        "## 5) Parsing the bounding box annotations\n",
        "\n",
        "We parse all XML files under the `training_images` folder. These annotations are in the popular `PASCAL-VOC` format. We extract the four bounding box coordinates and normalize them using `input_dim`. Also, we extract the class labels from those files."
      ]
    },
    {
      "cell_type": "code",
      "metadata": {
        "id": "_sUew-O2FaSZ",
        "colab_type": "code",
        "colab": {}
      },
      "source": [
        "\n",
        "import xmltodict\n",
        "import os\n",
        "\n",
        "bboxes = []\n",
        "classes_raw = []\n",
        "annotations_paths = glob.glob( 'training_images/*.xml' )\n",
        "for xmlfile in annotations_paths:\n",
        "    x = xmltodict.parse( open( xmlfile , 'rb' ) )\n",
        "    bndbox = x[ 'annotation' ][ 'object' ][ 'bndbox' ]\n",
        "    bndbox = np.array([ int(bndbox[ 'xmin' ]) , int(bndbox[ 'ymin' ]) , int(bndbox[ 'xmax' ]) , int(bndbox[ 'ymax' ]) ])\n",
        "    bndbox2 = [ None ] * 4\n",
        "    bndbox2[0] = bndbox[0]\n",
        "    bndbox2[1] = bndbox[1]\n",
        "    bndbox2[2] = bndbox[2]\n",
        "    bndbox2[3] = bndbox[3]\n",
        "    bndbox2 = np.array( bndbox2 ) / input_dim\n",
        "    bboxes.append( bndbox2 )\n",
        "    classes_raw.append( x[ 'annotation' ][ 'object' ][ 'name' ] )\n"
      ],
      "execution_count": 0,
      "outputs": []
    },
    {
      "cell_type": "markdown",
      "metadata": {
        "id": "IHvyZGlYhMYB",
        "colab_type": "text"
      },
      "source": [
        "\n",
        "## 6) Preparing the final datasets\n",
        "\n",
        "Our input will be an array of all the images we parsed earlier. The target output will be a concatenation of two arrays i.e the bounding box coordinates and the onehot class labels.\n",
        "\n",
        "Using scikit-learn's `train_test_split` method, we split our dataset in training and validation datasets.\n",
        "\n"
      ]
    },
    {
      "cell_type": "code",
      "metadata": {
        "id": "rYl6unq-Fc3S",
        "colab_type": "code",
        "outputId": "8dcc2d01-fb91-4d42-dee0-ad5901dec40a",
        "colab": {
          "base_uri": "https://localhost:8080/",
          "height": 51
        }
      },
      "source": [
        "\n",
        "from sklearn.preprocessing import LabelBinarizer\n",
        "from sklearn.model_selection import train_test_split\n",
        "\n",
        "boxes = np.array( bboxes ) \n",
        "encoder = LabelBinarizer()\n",
        "classes_onehot = encoder.fit_transform( classes_raw )\n",
        "\n",
        "Y = np.concatenate( [ boxes , classes_onehot ] , axis=1 )\n",
        "X = np.array( images )\n",
        "\n",
        "print( X.shape ) \n",
        "print( Y.shape )\n",
        "\n",
        "x_train, x_test, y_train, y_test = train_test_split( X, Y, test_size=0.1 )\n"
      ],
      "execution_count": 0,
      "outputs": [
        {
          "output_type": "stream",
          "text": [
            "(186, 228, 228, 3)\n",
            "(186, 7)\n"
          ],
          "name": "stdout"
        }
      ]
    },
    {
      "cell_type": "markdown",
      "metadata": {
        "id": "Cp5mYj7Ylauo",
        "colab_type": "text"
      },
      "source": [
        "## 7) Defining the loss function and evaluation metrics\n",
        "\n",
        "First, we define a method which calculates the intersection over union ( IOU ) of two bounding boxes. In the `custom_loss`, we first calculate Mean Squared Error of the target and predicted bounding boxes. Next, we calculate the IOU loss which is $1 - iou$.\n",
        "\n",
        "Hence, our final loss function is like,\n",
        "\n",
        "$\\Large L( y , y' ) = MSE( y, y') + ( 1 - IOU( y , y' ))$\n",
        "\n",
        "Also, we use IOU as a validation metric to evaluate the model's performance on the testing dataset.\n",
        "\n",
        "**Note: The loss function is a custom implementation. IOU is mostly used as a metric and not in the loss function.**\n",
        "\n"
      ]
    },
    {
      "cell_type": "code",
      "metadata": {
        "id": "NPuyqOpQhPiO",
        "colab_type": "code",
        "colab": {}
      },
      "source": [
        "\n",
        "input_shape = ( input_dim , input_dim , 3 )\n",
        "dropout_rate = 0.5\n",
        "alpha = 0.2\n",
        "\n",
        "def calculate_iou( target_boxes , pred_boxes ):\n",
        "    xA = K.maximum( target_boxes[ ... , 0], pred_boxes[ ... , 0] )\n",
        "    yA = K.maximum( target_boxes[ ... , 1], pred_boxes[ ... , 1] )\n",
        "    xB = K.minimum( target_boxes[ ... , 2], pred_boxes[ ... , 2] )\n",
        "    yB = K.minimum( target_boxes[ ... , 3], pred_boxes[ ... , 3] )\n",
        "    interArea = K.maximum( 0.0 , xB - xA ) * K.maximum( 0.0 , yB - yA )\n",
        "    boxAArea = (target_boxes[ ... , 2] - target_boxes[ ... , 0]) * (target_boxes[ ... , 3] - target_boxes[ ... , 1])\n",
        "    boxBArea = (pred_boxes[ ... , 2] - pred_boxes[ ... , 0]) * (pred_boxes[ ... , 3] - pred_boxes[ ... , 1])\n",
        "    iou = interArea / ( boxAArea + boxBArea - interArea )\n",
        "    return iou\n",
        "\n",
        "def custom_loss( y_true , y_pred ):\n",
        "    mse = tf.losses.mean_squared_error( y_true , y_pred ) \n",
        "    iou = calculate_iou( y_true , y_pred ) \n",
        "    return mse + ( 1 - iou )\n",
        "\n",
        "def iou_metric( y_true , y_pred ):\n",
        "    return calculate_iou( y_true , y_pred ) \n",
        "    "
      ],
      "execution_count": 0,
      "outputs": []
    },
    {
      "cell_type": "markdown",
      "metadata": {
        "id": "hidqxtGNn0-g",
        "colab_type": "text"
      },
      "source": [
        "## 8) Making the CNN model\n",
        "\n",
        "We'll use a CNN model which takes in input an image of shape `( input_dim , input_dim , 3 )` and outputs a vector of shape `( 7 , )`.\n",
        "\n",
        "*   The `Conv2D` layers will extract features from the image.\n",
        "*   We'll use `Dropout` and `LeakyReLU` activation layer to avoid overfitting ( the model will then predict the same bounding boxes for all images ).\n",
        "*   The `Dense` layers will be trained to output the final bounding boxes.\n",
        "\n",
        "We use a small learning rate of 0.0001 so that the learning doesn't stop. Also, we pass the `iou_metric` in the `model.compile()` method.\n",
        "\n"
      ]
    },
    {
      "cell_type": "code",
      "metadata": {
        "id": "SITou1wjFwPi",
        "colab_type": "code",
        "outputId": "a981b10a-8e60-4f2a-c90e-49e97bcd9d9a",
        "colab": {
          "base_uri": "https://localhost:8080/",
          "height": 139
        }
      },
      "source": [
        "\n",
        "model_layers = [       \n",
        "\tkeras.layers.Conv2D(16, kernel_size=(3, 3), strides=1, input_shape=input_shape),\n",
        "    keras.layers.LeakyReLU( alpha=alpha ) ,\n",
        "    keras.layers.Conv2D(16, kernel_size=(3, 3), strides=1 ),\n",
        "    keras.layers.LeakyReLU( alpha=alpha ) ,\n",
        "    keras.layers.MaxPooling2D( pool_size=( 2 , 2 ) ),\n",
        "\n",
        "    keras.layers.Conv2D(32, kernel_size=(3, 3), strides=1),\n",
        "    keras.layers.LeakyReLU( alpha=alpha ) ,\n",
        "    keras.layers.Conv2D(32, kernel_size=(3, 3), strides=1),\n",
        "    keras.layers.LeakyReLU( alpha=alpha ) ,\n",
        "    keras.layers.MaxPooling2D( pool_size=( 2 , 2 ) ),\n",
        "\n",
        "    keras.layers.Conv2D(64, kernel_size=(3, 3), strides=1),\n",
        "    keras.layers.LeakyReLU( alpha=alpha ) ,\n",
        "    keras.layers.Conv2D(64, kernel_size=(3, 3), strides=1),\n",
        "    keras.layers.LeakyReLU( alpha=alpha ) ,\n",
        "    keras.layers.MaxPooling2D( pool_size=( 2 , 2 ) ),\n",
        "\n",
        "    keras.layers.Conv2D(128, kernel_size=(3, 3), strides=1),\n",
        "    keras.layers.LeakyReLU( alpha=alpha ) ,\n",
        "    keras.layers.Conv2D(128, kernel_size=(3, 3), strides=1),\n",
        "    keras.layers.LeakyReLU( alpha=alpha ) ,\n",
        "    keras.layers.MaxPooling2D( pool_size=( 2 , 2 ) ),\n",
        "\n",
        "    keras.layers.Conv2D(256, kernel_size=(3, 3), strides=1),\n",
        "    keras.layers.LeakyReLU( alpha=alpha ) ,\n",
        "    keras.layers.Conv2D(256, kernel_size=(3, 3), strides=1),\n",
        "    keras.layers.LeakyReLU( alpha=alpha ) ,\n",
        "    keras.layers.MaxPooling2D( pool_size=( 2 , 2 ) ),\n",
        "\n",
        "    keras.layers.Flatten() , \n",
        "\n",
        "    keras.layers.Dense( 1240 ) , \n",
        "    keras.layers.LeakyReLU( alpha=alpha ) ,\n",
        "    keras.layers.Dense( 640 ) , \n",
        "    keras.layers.LeakyReLU( alpha=alpha ) ,\n",
        "    keras.layers.Dense( 480 ) , \n",
        "    keras.layers.LeakyReLU( alpha=alpha ) ,\n",
        "    keras.layers.Dense( 120 ) , \n",
        "    keras.layers.LeakyReLU( alpha=alpha ) ,\n",
        "    keras.layers.Dense( 62 ) , \n",
        "    keras.layers.LeakyReLU( alpha=alpha ) ,\n",
        "\n",
        "    keras.layers.Dense( pred_vector_length ),\n",
        "    keras.layers.LeakyReLU( alpha=alpha ) ,\n",
        "]\n",
        "\n",
        "model = keras.Sequential( model_layers )\n",
        "model.compile(\n",
        "\toptimizer=keras.optimizers.Adam( lr=0.0001 ),\n",
        "\tloss=custom_loss,\n",
        "    metrics=[ iou_metric ]\n",
        ")\n"
      ],
      "execution_count": 0,
      "outputs": [
        {
          "output_type": "stream",
          "text": [
            "WARNING:tensorflow:From /usr/local/lib/python3.6/dist-packages/tensorflow/python/ops/init_ops.py:1251: calling VarianceScaling.__init__ (from tensorflow.python.ops.init_ops) with dtype is deprecated and will be removed in a future version.\n",
            "Instructions for updating:\n",
            "Call initializer instance with the dtype argument instead of passing it to the constructor\n",
            "WARNING:tensorflow:From /usr/local/lib/python3.6/dist-packages/tensorflow/python/ops/losses/losses_impl.py:121: add_dispatch_support.<locals>.wrapper (from tensorflow.python.ops.array_ops) is deprecated and will be removed in a future version.\n",
            "Instructions for updating:\n",
            "Use tf.where in 2.0, which has the same broadcast rule as np.where\n"
          ],
          "name": "stdout"
        }
      ]
    },
    {
      "cell_type": "markdown",
      "metadata": {
        "id": "_PwqHt-YpP8W",
        "colab_type": "text"
      },
      "source": [
        "## 9) Training the model\n",
        "\n",
        "We finally train the model with the validation dataset and save it to the disk."
      ]
    },
    {
      "cell_type": "code",
      "metadata": {
        "id": "kqYpnDhlIiJg",
        "colab_type": "code",
        "outputId": "70f26d13-7191-451a-ce81-8f52edb5f19c",
        "colab": {
          "base_uri": "https://localhost:8080/",
          "height": 1000
        }
      },
      "source": [
        "\n",
        "model.fit( \n",
        "    x_train ,\n",
        "    y_train , \n",
        "    validation_data=( x_test , y_test ),\n",
        "    epochs=200 ,\n",
        "    batch_size=3 \n",
        ")\n",
        "\n",
        "model.save_weights( 'pretrained_weights.h5')\n"
      ],
      "execution_count": 0,
      "outputs": [
        {
          "output_type": "stream",
          "text": [
            "Train on 167 samples, validate on 19 samples\n",
            "Epoch 1/200\n",
            "167/167 [==============================] - 2s 12ms/sample - loss: 0.1372 - iou_metric: 0.8670 - val_loss: 0.5550 - val_iou_metric: 0.5756\n",
            "Epoch 2/200\n",
            "167/167 [==============================] - 2s 11ms/sample - loss: 0.1182 - iou_metric: 0.8851 - val_loss: 0.5591 - val_iou_metric: 0.5667\n",
            "Epoch 3/200\n",
            "167/167 [==============================] - 2s 11ms/sample - loss: 0.1217 - iou_metric: 0.8824 - val_loss: 0.5526 - val_iou_metric: 0.5721\n",
            "Epoch 4/200\n",
            "167/167 [==============================] - 2s 11ms/sample - loss: 0.1200 - iou_metric: 0.8841 - val_loss: 0.5352 - val_iou_metric: 0.5848\n",
            "Epoch 5/200\n",
            "167/167 [==============================] - 2s 11ms/sample - loss: 0.1237 - iou_metric: 0.8807 - val_loss: 0.5346 - val_iou_metric: 0.5939\n",
            "Epoch 6/200\n",
            "167/167 [==============================] - 2s 11ms/sample - loss: 0.1187 - iou_metric: 0.8845 - val_loss: 0.5591 - val_iou_metric: 0.5681\n",
            "Epoch 7/200\n",
            "167/167 [==============================] - 2s 11ms/sample - loss: 0.1135 - iou_metric: 0.8896 - val_loss: 0.5616 - val_iou_metric: 0.5693\n",
            "Epoch 8/200\n",
            "167/167 [==============================] - 2s 11ms/sample - loss: 0.1137 - iou_metric: 0.8892 - val_loss: 0.5503 - val_iou_metric: 0.5730\n",
            "Epoch 9/200\n",
            "167/167 [==============================] - 2s 11ms/sample - loss: 0.1157 - iou_metric: 0.8871 - val_loss: 0.5557 - val_iou_metric: 0.5770\n",
            "Epoch 10/200\n",
            "167/167 [==============================] - 2s 11ms/sample - loss: 0.1327 - iou_metric: 0.8708 - val_loss: 0.5738 - val_iou_metric: 0.5631\n",
            "Epoch 11/200\n",
            "167/167 [==============================] - 2s 11ms/sample - loss: 0.1235 - iou_metric: 0.8789 - val_loss: 0.5458 - val_iou_metric: 0.5807\n",
            "Epoch 12/200\n",
            "167/167 [==============================] - 2s 11ms/sample - loss: 0.1125 - iou_metric: 0.8902 - val_loss: 0.5644 - val_iou_metric: 0.5669\n",
            "Epoch 13/200\n",
            "167/167 [==============================] - 2s 11ms/sample - loss: 0.1103 - iou_metric: 0.8924 - val_loss: 0.5436 - val_iou_metric: 0.5830\n",
            "Epoch 14/200\n",
            "167/167 [==============================] - 2s 11ms/sample - loss: 0.1188 - iou_metric: 0.8844 - val_loss: 0.5720 - val_iou_metric: 0.5623\n",
            "Epoch 15/200\n",
            "167/167 [==============================] - 2s 11ms/sample - loss: 0.1149 - iou_metric: 0.8880 - val_loss: 0.5514 - val_iou_metric: 0.5871\n",
            "Epoch 16/200\n",
            "167/167 [==============================] - 2s 11ms/sample - loss: 0.1144 - iou_metric: 0.8889 - val_loss: 0.5559 - val_iou_metric: 0.5792\n",
            "Epoch 17/200\n",
            "167/167 [==============================] - 2s 11ms/sample - loss: 0.1147 - iou_metric: 0.8885 - val_loss: 0.5449 - val_iou_metric: 0.5799\n",
            "Epoch 18/200\n",
            "167/167 [==============================] - 2s 11ms/sample - loss: 0.1050 - iou_metric: 0.8974 - val_loss: 0.5515 - val_iou_metric: 0.5826\n",
            "Epoch 19/200\n",
            "167/167 [==============================] - 2s 11ms/sample - loss: 0.1175 - iou_metric: 0.8855 - val_loss: 0.5528 - val_iou_metric: 0.5726\n",
            "Epoch 20/200\n",
            "167/167 [==============================] - 2s 11ms/sample - loss: 0.1113 - iou_metric: 0.8915 - val_loss: 0.5607 - val_iou_metric: 0.5721\n",
            "Epoch 21/200\n",
            "167/167 [==============================] - 2s 11ms/sample - loss: 0.1173 - iou_metric: 0.8869 - val_loss: 0.5455 - val_iou_metric: 0.5860\n",
            "Epoch 22/200\n",
            "167/167 [==============================] - 2s 11ms/sample - loss: 0.1123 - iou_metric: 0.8904 - val_loss: 0.5517 - val_iou_metric: 0.5761\n",
            "Epoch 23/200\n",
            "167/167 [==============================] - 2s 11ms/sample - loss: 0.1100 - iou_metric: 0.8925 - val_loss: 0.5378 - val_iou_metric: 0.5799\n",
            "Epoch 24/200\n",
            "167/167 [==============================] - 2s 11ms/sample - loss: 0.1099 - iou_metric: 0.8938 - val_loss: 0.5514 - val_iou_metric: 0.5862\n",
            "Epoch 25/200\n",
            "167/167 [==============================] - 2s 11ms/sample - loss: 0.1052 - iou_metric: 0.8973 - val_loss: 0.5634 - val_iou_metric: 0.5693\n",
            "Epoch 26/200\n",
            "167/167 [==============================] - 2s 11ms/sample - loss: 0.1115 - iou_metric: 0.8911 - val_loss: 0.5330 - val_iou_metric: 0.5882\n",
            "Epoch 27/200\n",
            "167/167 [==============================] - 2s 11ms/sample - loss: 0.0954 - iou_metric: 0.9067 - val_loss: 0.5475 - val_iou_metric: 0.5833\n",
            "Epoch 28/200\n",
            "167/167 [==============================] - 2s 11ms/sample - loss: 0.1052 - iou_metric: 0.8972 - val_loss: 0.5489 - val_iou_metric: 0.5796\n",
            "Epoch 29/200\n",
            "167/167 [==============================] - 2s 11ms/sample - loss: 0.0965 - iou_metric: 0.9056 - val_loss: 0.5620 - val_iou_metric: 0.5651\n",
            "Epoch 30/200\n",
            "167/167 [==============================] - 2s 11ms/sample - loss: 0.1033 - iou_metric: 0.8990 - val_loss: 0.5426 - val_iou_metric: 0.5773\n",
            "Epoch 31/200\n",
            "167/167 [==============================] - 2s 11ms/sample - loss: 0.1095 - iou_metric: 0.8928 - val_loss: 0.5524 - val_iou_metric: 0.5799\n",
            "Epoch 32/200\n",
            "167/167 [==============================] - 2s 11ms/sample - loss: 0.0973 - iou_metric: 0.9049 - val_loss: 0.5621 - val_iou_metric: 0.5724\n",
            "Epoch 33/200\n",
            "167/167 [==============================] - 2s 11ms/sample - loss: 0.1016 - iou_metric: 0.9006 - val_loss: 0.5347 - val_iou_metric: 0.5943\n",
            "Epoch 34/200\n",
            "167/167 [==============================] - 2s 11ms/sample - loss: 0.1133 - iou_metric: 0.8887 - val_loss: 0.5613 - val_iou_metric: 0.5736\n",
            "Epoch 35/200\n",
            "167/167 [==============================] - 2s 11ms/sample - loss: 0.1073 - iou_metric: 0.8955 - val_loss: 0.5336 - val_iou_metric: 0.5959\n",
            "Epoch 36/200\n",
            "167/167 [==============================] - 2s 11ms/sample - loss: 0.1116 - iou_metric: 0.8906 - val_loss: 0.5690 - val_iou_metric: 0.5745\n",
            "Epoch 37/200\n",
            "167/167 [==============================] - 2s 11ms/sample - loss: 0.0997 - iou_metric: 0.9020 - val_loss: 0.5531 - val_iou_metric: 0.5755\n",
            "Epoch 38/200\n",
            "167/167 [==============================] - 2s 11ms/sample - loss: 0.1039 - iou_metric: 0.8982 - val_loss: 0.5487 - val_iou_metric: 0.5817\n",
            "Epoch 39/200\n",
            "167/167 [==============================] - 2s 11ms/sample - loss: 0.1030 - iou_metric: 0.8995 - val_loss: 0.5388 - val_iou_metric: 0.5900\n",
            "Epoch 40/200\n",
            "167/167 [==============================] - 2s 11ms/sample - loss: 0.0975 - iou_metric: 0.9042 - val_loss: 0.5575 - val_iou_metric: 0.5803\n",
            "Epoch 41/200\n",
            "167/167 [==============================] - 2s 11ms/sample - loss: 0.0931 - iou_metric: 0.9090 - val_loss: 0.5420 - val_iou_metric: 0.5868\n",
            "Epoch 42/200\n",
            "167/167 [==============================] - 2s 11ms/sample - loss: 0.1115 - iou_metric: 0.8905 - val_loss: 0.5345 - val_iou_metric: 0.5929\n",
            "Epoch 43/200\n",
            "167/167 [==============================] - 2s 11ms/sample - loss: 0.0943 - iou_metric: 0.9077 - val_loss: 0.5481 - val_iou_metric: 0.5825\n",
            "Epoch 44/200\n",
            "167/167 [==============================] - 2s 11ms/sample - loss: 0.0965 - iou_metric: 0.9054 - val_loss: 0.5405 - val_iou_metric: 0.5843\n",
            "Epoch 45/200\n",
            "167/167 [==============================] - 2s 11ms/sample - loss: 0.0957 - iou_metric: 0.9060 - val_loss: 0.5497 - val_iou_metric: 0.5877\n",
            "Epoch 46/200\n",
            "167/167 [==============================] - 2s 11ms/sample - loss: 0.0996 - iou_metric: 0.9022 - val_loss: 0.5464 - val_iou_metric: 0.5831\n",
            "Epoch 47/200\n",
            "167/167 [==============================] - 2s 11ms/sample - loss: 0.1014 - iou_metric: 0.9003 - val_loss: 0.5585 - val_iou_metric: 0.5801\n",
            "Epoch 48/200\n",
            "167/167 [==============================] - 2s 11ms/sample - loss: 0.1085 - iou_metric: 0.8936 - val_loss: 0.5268 - val_iou_metric: 0.6068\n",
            "Epoch 49/200\n",
            "167/167 [==============================] - 2s 11ms/sample - loss: 0.1055 - iou_metric: 0.8965 - val_loss: 0.5509 - val_iou_metric: 0.5885\n",
            "Epoch 50/200\n",
            "167/167 [==============================] - 2s 11ms/sample - loss: 0.0905 - iou_metric: 0.9111 - val_loss: 0.5526 - val_iou_metric: 0.5777\n",
            "Epoch 51/200\n",
            "167/167 [==============================] - 2s 11ms/sample - loss: 0.1075 - iou_metric: 0.8948 - val_loss: 0.5577 - val_iou_metric: 0.5842\n",
            "Epoch 52/200\n",
            "167/167 [==============================] - 2s 11ms/sample - loss: 0.0974 - iou_metric: 0.9046 - val_loss: 0.5516 - val_iou_metric: 0.5775\n",
            "Epoch 53/200\n",
            "167/167 [==============================] - 2s 11ms/sample - loss: 0.1048 - iou_metric: 0.8975 - val_loss: 0.5672 - val_iou_metric: 0.5642\n",
            "Epoch 54/200\n",
            "167/167 [==============================] - 2s 11ms/sample - loss: 0.0986 - iou_metric: 0.9031 - val_loss: 0.5462 - val_iou_metric: 0.5949\n",
            "Epoch 55/200\n",
            "167/167 [==============================] - 2s 11ms/sample - loss: 0.0973 - iou_metric: 0.9045 - val_loss: 0.5487 - val_iou_metric: 0.5826\n",
            "Epoch 56/200\n",
            "167/167 [==============================] - 2s 11ms/sample - loss: 0.0990 - iou_metric: 0.9025 - val_loss: 0.5610 - val_iou_metric: 0.5738\n",
            "Epoch 57/200\n",
            "167/167 [==============================] - 2s 11ms/sample - loss: 0.0925 - iou_metric: 0.9094 - val_loss: 0.5398 - val_iou_metric: 0.5963\n",
            "Epoch 58/200\n",
            "167/167 [==============================] - 2s 11ms/sample - loss: 0.0960 - iou_metric: 0.9060 - val_loss: 0.5463 - val_iou_metric: 0.5800\n",
            "Epoch 59/200\n",
            "167/167 [==============================] - 2s 11ms/sample - loss: 0.1007 - iou_metric: 0.9011 - val_loss: 0.5692 - val_iou_metric: 0.5632\n",
            "Epoch 60/200\n",
            "167/167 [==============================] - 2s 11ms/sample - loss: 0.0938 - iou_metric: 0.9078 - val_loss: 0.5427 - val_iou_metric: 0.5904\n",
            "Epoch 61/200\n",
            "167/167 [==============================] - 2s 11ms/sample - loss: 0.0899 - iou_metric: 0.9117 - val_loss: 0.5445 - val_iou_metric: 0.5972\n",
            "Epoch 62/200\n",
            "167/167 [==============================] - 2s 11ms/sample - loss: 0.1147 - iou_metric: 0.8877 - val_loss: 0.5494 - val_iou_metric: 0.5766\n",
            "Epoch 63/200\n",
            "167/167 [==============================] - 2s 11ms/sample - loss: 0.1147 - iou_metric: 0.8874 - val_loss: 0.5573 - val_iou_metric: 0.5719\n",
            "Epoch 64/200\n",
            "167/167 [==============================] - 2s 11ms/sample - loss: 0.1031 - iou_metric: 0.8986 - val_loss: 0.5317 - val_iou_metric: 0.5969\n",
            "Epoch 65/200\n",
            "167/167 [==============================] - 2s 11ms/sample - loss: 0.0940 - iou_metric: 0.9078 - val_loss: 0.5485 - val_iou_metric: 0.5835\n",
            "Epoch 66/200\n",
            "167/167 [==============================] - 2s 11ms/sample - loss: 0.1038 - iou_metric: 0.8980 - val_loss: 0.5396 - val_iou_metric: 0.5896\n",
            "Epoch 67/200\n",
            "167/167 [==============================] - 2s 11ms/sample - loss: 0.0959 - iou_metric: 0.9058 - val_loss: 0.5432 - val_iou_metric: 0.5875\n",
            "Epoch 68/200\n",
            "167/167 [==============================] - 2s 11ms/sample - loss: 0.0861 - iou_metric: 0.9153 - val_loss: 0.5510 - val_iou_metric: 0.5837\n",
            "Epoch 69/200\n",
            "167/167 [==============================] - 2s 11ms/sample - loss: 0.0947 - iou_metric: 0.9072 - val_loss: 0.5389 - val_iou_metric: 0.5911\n",
            "Epoch 70/200\n",
            "167/167 [==============================] - 2s 11ms/sample - loss: 0.0954 - iou_metric: 0.9063 - val_loss: 0.5513 - val_iou_metric: 0.5824\n",
            "Epoch 71/200\n",
            "167/167 [==============================] - 2s 11ms/sample - loss: 0.1013 - iou_metric: 0.9004 - val_loss: 0.5590 - val_iou_metric: 0.5797\n",
            "Epoch 72/200\n",
            "167/167 [==============================] - 2s 11ms/sample - loss: 0.0943 - iou_metric: 0.9075 - val_loss: 0.5523 - val_iou_metric: 0.5752\n",
            "Epoch 73/200\n",
            "167/167 [==============================] - 2s 11ms/sample - loss: 0.0928 - iou_metric: 0.9089 - val_loss: 0.5498 - val_iou_metric: 0.5840\n",
            "Epoch 74/200\n",
            "167/167 [==============================] - 2s 11ms/sample - loss: 0.0910 - iou_metric: 0.9106 - val_loss: 0.5495 - val_iou_metric: 0.5839\n",
            "Epoch 75/200\n",
            "167/167 [==============================] - 2s 11ms/sample - loss: 0.0873 - iou_metric: 0.9142 - val_loss: 0.5348 - val_iou_metric: 0.5934\n",
            "Epoch 76/200\n",
            "167/167 [==============================] - 2s 11ms/sample - loss: 0.0912 - iou_metric: 0.9104 - val_loss: 0.5345 - val_iou_metric: 0.6003\n",
            "Epoch 77/200\n",
            "167/167 [==============================] - 2s 11ms/sample - loss: 0.0892 - iou_metric: 0.9125 - val_loss: 0.5323 - val_iou_metric: 0.5875\n",
            "Epoch 78/200\n",
            "167/167 [==============================] - 2s 11ms/sample - loss: 0.0825 - iou_metric: 0.9190 - val_loss: 0.5318 - val_iou_metric: 0.5967\n",
            "Epoch 79/200\n",
            "167/167 [==============================] - 2s 11ms/sample - loss: 0.0962 - iou_metric: 0.9051 - val_loss: 0.5352 - val_iou_metric: 0.5940\n",
            "Epoch 80/200\n",
            "167/167 [==============================] - 2s 11ms/sample - loss: 0.0836 - iou_metric: 0.9179 - val_loss: 0.5308 - val_iou_metric: 0.6009\n",
            "Epoch 81/200\n",
            "167/167 [==============================] - 2s 11ms/sample - loss: 0.0877 - iou_metric: 0.9136 - val_loss: 0.5514 - val_iou_metric: 0.5801\n",
            "Epoch 82/200\n",
            "167/167 [==============================] - 2s 11ms/sample - loss: 0.0910 - iou_metric: 0.9106 - val_loss: 0.5363 - val_iou_metric: 0.5947\n",
            "Epoch 83/200\n",
            "167/167 [==============================] - 2s 11ms/sample - loss: 0.0943 - iou_metric: 0.9074 - val_loss: 0.5567 - val_iou_metric: 0.5739\n",
            "Epoch 84/200\n",
            "167/167 [==============================] - 2s 11ms/sample - loss: 0.0991 - iou_metric: 0.9026 - val_loss: 0.5514 - val_iou_metric: 0.5844\n",
            "Epoch 85/200\n",
            "167/167 [==============================] - 2s 11ms/sample - loss: 0.0947 - iou_metric: 0.9069 - val_loss: 0.5229 - val_iou_metric: 0.6001\n",
            "Epoch 86/200\n",
            "167/167 [==============================] - 2s 11ms/sample - loss: 0.0865 - iou_metric: 0.9148 - val_loss: 0.5341 - val_iou_metric: 0.5903\n",
            "Epoch 87/200\n",
            "167/167 [==============================] - 2s 11ms/sample - loss: 0.0863 - iou_metric: 0.9151 - val_loss: 0.5509 - val_iou_metric: 0.5793\n",
            "Epoch 88/200\n",
            "167/167 [==============================] - 2s 11ms/sample - loss: 0.0971 - iou_metric: 0.9042 - val_loss: 0.5394 - val_iou_metric: 0.5900\n",
            "Epoch 89/200\n",
            "167/167 [==============================] - 2s 11ms/sample - loss: 0.0848 - iou_metric: 0.9165 - val_loss: 0.5425 - val_iou_metric: 0.5911\n",
            "Epoch 90/200\n",
            "167/167 [==============================] - 2s 11ms/sample - loss: 0.0887 - iou_metric: 0.9127 - val_loss: 0.5255 - val_iou_metric: 0.5981\n",
            "Epoch 91/200\n",
            "167/167 [==============================] - 2s 11ms/sample - loss: 0.0838 - iou_metric: 0.9176 - val_loss: 0.5442 - val_iou_metric: 0.5859\n",
            "Epoch 92/200\n",
            "167/167 [==============================] - 2s 11ms/sample - loss: 0.1022 - iou_metric: 0.8991 - val_loss: 0.5317 - val_iou_metric: 0.5993\n",
            "Epoch 93/200\n",
            "167/167 [==============================] - 2s 11ms/sample - loss: 0.0849 - iou_metric: 0.9163 - val_loss: 0.5573 - val_iou_metric: 0.5815\n",
            "Epoch 94/200\n",
            "167/167 [==============================] - 2s 11ms/sample - loss: 0.0840 - iou_metric: 0.9171 - val_loss: 0.5479 - val_iou_metric: 0.5905\n",
            "Epoch 95/200\n",
            "167/167 [==============================] - 2s 11ms/sample - loss: 0.0821 - iou_metric: 0.9190 - val_loss: 0.5503 - val_iou_metric: 0.5772\n",
            "Epoch 96/200\n",
            "167/167 [==============================] - 2s 11ms/sample - loss: 0.0893 - iou_metric: 0.9118 - val_loss: 0.5327 - val_iou_metric: 0.5952\n",
            "Epoch 97/200\n",
            "167/167 [==============================] - 2s 11ms/sample - loss: 0.0849 - iou_metric: 0.9162 - val_loss: 0.5523 - val_iou_metric: 0.5796\n",
            "Epoch 98/200\n",
            "167/167 [==============================] - 2s 11ms/sample - loss: 0.0880 - iou_metric: 0.9135 - val_loss: 0.5390 - val_iou_metric: 0.5879\n",
            "Epoch 99/200\n",
            "167/167 [==============================] - 2s 11ms/sample - loss: 0.0855 - iou_metric: 0.9155 - val_loss: 0.5432 - val_iou_metric: 0.5898\n",
            "Epoch 100/200\n",
            "167/167 [==============================] - 2s 11ms/sample - loss: 0.0889 - iou_metric: 0.9124 - val_loss: 0.5375 - val_iou_metric: 0.5858\n",
            "Epoch 101/200\n",
            "167/167 [==============================] - 2s 11ms/sample - loss: 0.0826 - iou_metric: 0.9185 - val_loss: 0.5499 - val_iou_metric: 0.5873\n",
            "Epoch 102/200\n",
            "167/167 [==============================] - 2s 11ms/sample - loss: 0.0937 - iou_metric: 0.9075 - val_loss: 0.5340 - val_iou_metric: 0.5926\n",
            "Epoch 103/200\n",
            "167/167 [==============================] - 2s 11ms/sample - loss: 0.0803 - iou_metric: 0.9211 - val_loss: 0.5404 - val_iou_metric: 0.5917\n",
            "Epoch 104/200\n",
            "167/167 [==============================] - 2s 11ms/sample - loss: 0.0861 - iou_metric: 0.9155 - val_loss: 0.5263 - val_iou_metric: 0.5930\n",
            "Epoch 105/200\n",
            "167/167 [==============================] - 2s 11ms/sample - loss: 0.0851 - iou_metric: 0.9160 - val_loss: 0.5406 - val_iou_metric: 0.5929\n",
            "Epoch 106/200\n",
            "167/167 [==============================] - 2s 11ms/sample - loss: 0.0901 - iou_metric: 0.9110 - val_loss: 0.5545 - val_iou_metric: 0.5811\n",
            "Epoch 107/200\n",
            "167/167 [==============================] - 2s 11ms/sample - loss: 0.0820 - iou_metric: 0.9191 - val_loss: 0.5399 - val_iou_metric: 0.5946\n",
            "Epoch 108/200\n",
            "167/167 [==============================] - 2s 11ms/sample - loss: 0.0774 - iou_metric: 0.9237 - val_loss: 0.5158 - val_iou_metric: 0.5980\n",
            "Epoch 109/200\n",
            "167/167 [==============================] - 2s 11ms/sample - loss: 0.0852 - iou_metric: 0.9159 - val_loss: 0.5583 - val_iou_metric: 0.5775\n",
            "Epoch 110/200\n",
            "167/167 [==============================] - 2s 11ms/sample - loss: 0.0694 - iou_metric: 0.9319 - val_loss: 0.5605 - val_iou_metric: 0.5805\n",
            "Epoch 111/200\n",
            "167/167 [==============================] - 2s 11ms/sample - loss: 0.0910 - iou_metric: 0.9108 - val_loss: 0.5650 - val_iou_metric: 0.5728\n",
            "Epoch 112/200\n",
            "167/167 [==============================] - 2s 11ms/sample - loss: 0.0865 - iou_metric: 0.9149 - val_loss: 0.5377 - val_iou_metric: 0.5958\n",
            "Epoch 113/200\n",
            "167/167 [==============================] - 2s 11ms/sample - loss: 0.0910 - iou_metric: 0.9102 - val_loss: 0.5332 - val_iou_metric: 0.5921\n",
            "Epoch 114/200\n",
            "167/167 [==============================] - 2s 11ms/sample - loss: 0.0859 - iou_metric: 0.9154 - val_loss: 0.5414 - val_iou_metric: 0.5949\n",
            "Epoch 115/200\n",
            "167/167 [==============================] - 2s 11ms/sample - loss: 0.0821 - iou_metric: 0.9195 - val_loss: 0.5335 - val_iou_metric: 0.5934\n",
            "Epoch 116/200\n",
            "167/167 [==============================] - 2s 11ms/sample - loss: 0.0835 - iou_metric: 0.9177 - val_loss: 0.5235 - val_iou_metric: 0.5955\n",
            "Epoch 117/200\n",
            "167/167 [==============================] - 2s 11ms/sample - loss: 0.0840 - iou_metric: 0.9172 - val_loss: 0.5549 - val_iou_metric: 0.5843\n",
            "Epoch 118/200\n",
            "167/167 [==============================] - 2s 11ms/sample - loss: 0.0814 - iou_metric: 0.9197 - val_loss: 0.5359 - val_iou_metric: 0.5895\n",
            "Epoch 119/200\n",
            "167/167 [==============================] - 2s 11ms/sample - loss: 0.0812 - iou_metric: 0.9200 - val_loss: 0.5531 - val_iou_metric: 0.5847\n",
            "Epoch 120/200\n",
            "167/167 [==============================] - 2s 11ms/sample - loss: 0.0921 - iou_metric: 0.9091 - val_loss: 0.5307 - val_iou_metric: 0.5996\n",
            "Epoch 121/200\n",
            "167/167 [==============================] - 2s 11ms/sample - loss: 0.0795 - iou_metric: 0.9218 - val_loss: 0.5570 - val_iou_metric: 0.5826\n",
            "Epoch 122/200\n",
            "167/167 [==============================] - 2s 11ms/sample - loss: 0.0791 - iou_metric: 0.9223 - val_loss: 0.5423 - val_iou_metric: 0.5830\n",
            "Epoch 123/200\n",
            "167/167 [==============================] - 2s 11ms/sample - loss: 0.0792 - iou_metric: 0.9220 - val_loss: 0.5555 - val_iou_metric: 0.5822\n",
            "Epoch 124/200\n",
            "167/167 [==============================] - 2s 11ms/sample - loss: 0.0806 - iou_metric: 0.9204 - val_loss: 0.5570 - val_iou_metric: 0.5765\n",
            "Epoch 125/200\n",
            "167/167 [==============================] - 2s 11ms/sample - loss: 0.0863 - iou_metric: 0.9149 - val_loss: 0.5556 - val_iou_metric: 0.5888\n",
            "Epoch 126/200\n",
            "167/167 [==============================] - 2s 11ms/sample - loss: 0.0847 - iou_metric: 0.9164 - val_loss: 0.5447 - val_iou_metric: 0.5835\n",
            "Epoch 127/200\n",
            "167/167 [==============================] - 2s 11ms/sample - loss: 0.0775 - iou_metric: 0.9237 - val_loss: 0.5246 - val_iou_metric: 0.5998\n",
            "Epoch 128/200\n",
            "167/167 [==============================] - 2s 11ms/sample - loss: 0.0747 - iou_metric: 0.9263 - val_loss: 0.5356 - val_iou_metric: 0.5964\n",
            "Epoch 129/200\n",
            "167/167 [==============================] - 2s 11ms/sample - loss: 0.0872 - iou_metric: 0.9139 - val_loss: 0.5761 - val_iou_metric: 0.5701\n",
            "Epoch 130/200\n",
            "167/167 [==============================] - 2s 11ms/sample - loss: 0.0739 - iou_metric: 0.9274 - val_loss: 0.5351 - val_iou_metric: 0.5987\n",
            "Epoch 131/200\n",
            "167/167 [==============================] - 2s 11ms/sample - loss: 0.0864 - iou_metric: 0.9149 - val_loss: 0.5383 - val_iou_metric: 0.5970\n",
            "Epoch 132/200\n",
            "167/167 [==============================] - 2s 11ms/sample - loss: 0.0783 - iou_metric: 0.9231 - val_loss: 0.5312 - val_iou_metric: 0.5925\n",
            "Epoch 133/200\n",
            "167/167 [==============================] - 2s 11ms/sample - loss: 0.0766 - iou_metric: 0.9247 - val_loss: 0.5367 - val_iou_metric: 0.5844\n",
            "Epoch 134/200\n",
            "167/167 [==============================] - 2s 11ms/sample - loss: 0.0815 - iou_metric: 0.9198 - val_loss: 0.5266 - val_iou_metric: 0.5987\n",
            "Epoch 135/200\n",
            "167/167 [==============================] - 2s 11ms/sample - loss: 0.0742 - iou_metric: 0.9270 - val_loss: 0.5589 - val_iou_metric: 0.5782\n",
            "Epoch 136/200\n",
            "167/167 [==============================] - 2s 11ms/sample - loss: 0.0788 - iou_metric: 0.9223 - val_loss: 0.5687 - val_iou_metric: 0.5708\n",
            "Epoch 137/200\n",
            "167/167 [==============================] - 2s 11ms/sample - loss: 0.0793 - iou_metric: 0.9218 - val_loss: 0.5314 - val_iou_metric: 0.5982\n",
            "Epoch 138/200\n",
            "167/167 [==============================] - 2s 11ms/sample - loss: 0.0782 - iou_metric: 0.9232 - val_loss: 0.5487 - val_iou_metric: 0.5866\n",
            "Epoch 139/200\n",
            "167/167 [==============================] - 2s 11ms/sample - loss: 0.0733 - iou_metric: 0.9279 - val_loss: 0.5410 - val_iou_metric: 0.5915\n",
            "Epoch 140/200\n",
            "167/167 [==============================] - 2s 11ms/sample - loss: 0.0829 - iou_metric: 0.9184 - val_loss: 0.5382 - val_iou_metric: 0.5958\n",
            "Epoch 141/200\n",
            "167/167 [==============================] - 2s 11ms/sample - loss: 0.0719 - iou_metric: 0.9292 - val_loss: 0.5454 - val_iou_metric: 0.5898\n",
            "Epoch 142/200\n",
            "167/167 [==============================] - 2s 11ms/sample - loss: 0.0838 - iou_metric: 0.9176 - val_loss: 0.5564 - val_iou_metric: 0.5804\n",
            "Epoch 143/200\n",
            "167/167 [==============================] - 2s 11ms/sample - loss: 0.0862 - iou_metric: 0.9152 - val_loss: 0.5387 - val_iou_metric: 0.5904\n",
            "Epoch 144/200\n",
            "167/167 [==============================] - 2s 11ms/sample - loss: 0.0747 - iou_metric: 0.9265 - val_loss: 0.5290 - val_iou_metric: 0.5932\n",
            "Epoch 145/200\n",
            "167/167 [==============================] - 2s 11ms/sample - loss: 0.0776 - iou_metric: 0.9233 - val_loss: 0.5328 - val_iou_metric: 0.5895\n",
            "Epoch 146/200\n",
            "167/167 [==============================] - 2s 11ms/sample - loss: 0.0703 - iou_metric: 0.9306 - val_loss: 0.5265 - val_iou_metric: 0.5950\n",
            "Epoch 147/200\n",
            "167/167 [==============================] - 2s 11ms/sample - loss: 0.0804 - iou_metric: 0.9206 - val_loss: 0.5311 - val_iou_metric: 0.5934\n",
            "Epoch 148/200\n",
            "167/167 [==============================] - 2s 11ms/sample - loss: 0.0703 - iou_metric: 0.9306 - val_loss: 0.5368 - val_iou_metric: 0.5878\n",
            "Epoch 149/200\n",
            "167/167 [==============================] - 2s 11ms/sample - loss: 0.0710 - iou_metric: 0.9300 - val_loss: 0.5353 - val_iou_metric: 0.5925\n",
            "Epoch 150/200\n",
            "167/167 [==============================] - 2s 11ms/sample - loss: 0.0727 - iou_metric: 0.9283 - val_loss: 0.5455 - val_iou_metric: 0.5925\n",
            "Epoch 151/200\n",
            "167/167 [==============================] - 2s 11ms/sample - loss: 0.0703 - iou_metric: 0.9306 - val_loss: 0.5263 - val_iou_metric: 0.6025\n",
            "Epoch 152/200\n",
            "167/167 [==============================] - 2s 11ms/sample - loss: 0.0781 - iou_metric: 0.9231 - val_loss: 0.5398 - val_iou_metric: 0.5880\n",
            "Epoch 153/200\n",
            "167/167 [==============================] - 2s 11ms/sample - loss: 0.0781 - iou_metric: 0.9230 - val_loss: 0.5366 - val_iou_metric: 0.5928\n",
            "Epoch 154/200\n",
            "167/167 [==============================] - 2s 11ms/sample - loss: 0.0845 - iou_metric: 0.9167 - val_loss: 0.5339 - val_iou_metric: 0.5925\n",
            "Epoch 155/200\n",
            "167/167 [==============================] - 2s 11ms/sample - loss: 0.0726 - iou_metric: 0.9284 - val_loss: 0.5426 - val_iou_metric: 0.5846\n",
            "Epoch 156/200\n",
            "167/167 [==============================] - 2s 11ms/sample - loss: 0.0748 - iou_metric: 0.9262 - val_loss: 0.5453 - val_iou_metric: 0.5884\n",
            "Epoch 157/200\n",
            "167/167 [==============================] - 2s 11ms/sample - loss: 0.0761 - iou_metric: 0.9253 - val_loss: 0.5466 - val_iou_metric: 0.5871\n",
            "Epoch 158/200\n",
            "167/167 [==============================] - 2s 11ms/sample - loss: 0.0743 - iou_metric: 0.9269 - val_loss: 0.5377 - val_iou_metric: 0.5879\n",
            "Epoch 159/200\n",
            "167/167 [==============================] - 2s 11ms/sample - loss: 0.0737 - iou_metric: 0.9273 - val_loss: 0.5473 - val_iou_metric: 0.5852\n",
            "Epoch 160/200\n",
            "167/167 [==============================] - 2s 11ms/sample - loss: 0.0807 - iou_metric: 0.9207 - val_loss: 0.5461 - val_iou_metric: 0.5831\n",
            "Epoch 161/200\n",
            "167/167 [==============================] - 2s 11ms/sample - loss: 0.0761 - iou_metric: 0.9249 - val_loss: 0.5459 - val_iou_metric: 0.5914\n",
            "Epoch 162/200\n",
            "167/167 [==============================] - 2s 11ms/sample - loss: 0.0812 - iou_metric: 0.9197 - val_loss: 0.5384 - val_iou_metric: 0.5910\n",
            "Epoch 163/200\n",
            "167/167 [==============================] - 2s 11ms/sample - loss: 0.0787 - iou_metric: 0.9223 - val_loss: 0.5448 - val_iou_metric: 0.5920\n",
            "Epoch 164/200\n",
            "167/167 [==============================] - 2s 11ms/sample - loss: 0.0684 - iou_metric: 0.9327 - val_loss: 0.5491 - val_iou_metric: 0.5770\n",
            "Epoch 165/200\n",
            "167/167 [==============================] - 2s 11ms/sample - loss: 0.0772 - iou_metric: 0.9237 - val_loss: 0.5330 - val_iou_metric: 0.5902\n",
            "Epoch 166/200\n",
            "167/167 [==============================] - 2s 11ms/sample - loss: 0.0696 - iou_metric: 0.9314 - val_loss: 0.5367 - val_iou_metric: 0.5884\n",
            "Epoch 167/200\n",
            "167/167 [==============================] - 2s 11ms/sample - loss: 0.0738 - iou_metric: 0.9272 - val_loss: 0.5528 - val_iou_metric: 0.5784\n",
            "Epoch 168/200\n",
            "167/167 [==============================] - 2s 11ms/sample - loss: 0.0743 - iou_metric: 0.9266 - val_loss: 0.5488 - val_iou_metric: 0.5870\n",
            "Epoch 169/200\n",
            "167/167 [==============================] - 2s 11ms/sample - loss: 0.0698 - iou_metric: 0.9312 - val_loss: 0.5522 - val_iou_metric: 0.5788\n",
            "Epoch 170/200\n",
            "167/167 [==============================] - 2s 11ms/sample - loss: 0.0688 - iou_metric: 0.9321 - val_loss: 0.5445 - val_iou_metric: 0.5847\n",
            "Epoch 171/200\n",
            "167/167 [==============================] - 2s 11ms/sample - loss: 0.0668 - iou_metric: 0.9341 - val_loss: 0.5500 - val_iou_metric: 0.5856\n",
            "Epoch 172/200\n",
            "167/167 [==============================] - 2s 11ms/sample - loss: 0.0734 - iou_metric: 0.9275 - val_loss: 0.5452 - val_iou_metric: 0.5866\n",
            "Epoch 173/200\n",
            "167/167 [==============================] - 2s 11ms/sample - loss: 0.0736 - iou_metric: 0.9276 - val_loss: 0.5451 - val_iou_metric: 0.5791\n",
            "Epoch 174/200\n",
            "167/167 [==============================] - 2s 11ms/sample - loss: 0.0744 - iou_metric: 0.9268 - val_loss: 0.5415 - val_iou_metric: 0.5902\n",
            "Epoch 175/200\n",
            "167/167 [==============================] - 2s 11ms/sample - loss: 0.0724 - iou_metric: 0.9287 - val_loss: 0.5447 - val_iou_metric: 0.5904\n",
            "Epoch 176/200\n",
            "167/167 [==============================] - 2s 11ms/sample - loss: 0.0684 - iou_metric: 0.9326 - val_loss: 0.5403 - val_iou_metric: 0.5961\n",
            "Epoch 177/200\n",
            "167/167 [==============================] - 2s 11ms/sample - loss: 0.0682 - iou_metric: 0.9328 - val_loss: 0.5516 - val_iou_metric: 0.5840\n",
            "Epoch 178/200\n",
            "167/167 [==============================] - 2s 11ms/sample - loss: 0.0714 - iou_metric: 0.9299 - val_loss: 0.5232 - val_iou_metric: 0.5935\n",
            "Epoch 179/200\n",
            "167/167 [==============================] - 2s 11ms/sample - loss: 0.0728 - iou_metric: 0.9283 - val_loss: 0.5445 - val_iou_metric: 0.5872\n",
            "Epoch 180/200\n",
            "167/167 [==============================] - 2s 11ms/sample - loss: 0.0752 - iou_metric: 0.9258 - val_loss: 0.5437 - val_iou_metric: 0.5863\n",
            "Epoch 181/200\n",
            "167/167 [==============================] - 2s 11ms/sample - loss: 0.0715 - iou_metric: 0.9297 - val_loss: 0.5418 - val_iou_metric: 0.5775\n",
            "Epoch 182/200\n",
            "167/167 [==============================] - 2s 11ms/sample - loss: 0.0747 - iou_metric: 0.9263 - val_loss: 0.5456 - val_iou_metric: 0.5818\n",
            "Epoch 183/200\n",
            "167/167 [==============================] - 2s 11ms/sample - loss: 0.0706 - iou_metric: 0.9301 - val_loss: 0.5449 - val_iou_metric: 0.5867\n",
            "Epoch 184/200\n",
            "167/167 [==============================] - 2s 11ms/sample - loss: 0.0686 - iou_metric: 0.9323 - val_loss: 0.5459 - val_iou_metric: 0.5882\n",
            "Epoch 185/200\n",
            "167/167 [==============================] - 2s 11ms/sample - loss: 0.0677 - iou_metric: 0.9331 - val_loss: 0.5354 - val_iou_metric: 0.5953\n",
            "Epoch 186/200\n",
            "167/167 [==============================] - 2s 11ms/sample - loss: 0.0837 - iou_metric: 0.9172 - val_loss: 0.5414 - val_iou_metric: 0.5977\n",
            "Epoch 187/200\n",
            "167/167 [==============================] - 2s 11ms/sample - loss: 0.0684 - iou_metric: 0.9324 - val_loss: 0.5488 - val_iou_metric: 0.5846\n",
            "Epoch 188/200\n",
            "167/167 [==============================] - 2s 11ms/sample - loss: 0.0732 - iou_metric: 0.9277 - val_loss: 0.5445 - val_iou_metric: 0.5873\n",
            "Epoch 189/200\n",
            "167/167 [==============================] - 2s 11ms/sample - loss: 0.0689 - iou_metric: 0.9320 - val_loss: 0.5335 - val_iou_metric: 0.5885\n",
            "Epoch 190/200\n",
            "167/167 [==============================] - 2s 11ms/sample - loss: 0.0747 - iou_metric: 0.9266 - val_loss: 0.5216 - val_iou_metric: 0.5994\n",
            "Epoch 191/200\n",
            "167/167 [==============================] - 2s 11ms/sample - loss: 0.0674 - iou_metric: 0.9335 - val_loss: 0.5429 - val_iou_metric: 0.5817\n",
            "Epoch 192/200\n",
            "167/167 [==============================] - 2s 11ms/sample - loss: 0.0664 - iou_metric: 0.9344 - val_loss: 0.5335 - val_iou_metric: 0.5940\n",
            "Epoch 193/200\n",
            "167/167 [==============================] - 2s 11ms/sample - loss: 0.0726 - iou_metric: 0.9284 - val_loss: 0.5453 - val_iou_metric: 0.5833\n",
            "Epoch 194/200\n",
            "167/167 [==============================] - 2s 11ms/sample - loss: 0.0720 - iou_metric: 0.9289 - val_loss: 0.5356 - val_iou_metric: 0.5917\n",
            "Epoch 195/200\n",
            "167/167 [==============================] - 2s 11ms/sample - loss: 0.0709 - iou_metric: 0.9303 - val_loss: 0.5494 - val_iou_metric: 0.5863\n",
            "Epoch 196/200\n",
            "167/167 [==============================] - 2s 11ms/sample - loss: 0.0686 - iou_metric: 0.9323 - val_loss: 0.5451 - val_iou_metric: 0.5911\n",
            "Epoch 197/200\n",
            "167/167 [==============================] - 2s 11ms/sample - loss: 0.0682 - iou_metric: 0.9325 - val_loss: 0.5452 - val_iou_metric: 0.5873\n",
            "Epoch 198/200\n",
            "167/167 [==============================] - 2s 11ms/sample - loss: 0.0677 - iou_metric: 0.9331 - val_loss: 0.5308 - val_iou_metric: 0.5893\n",
            "Epoch 199/200\n",
            "167/167 [==============================] - 2s 11ms/sample - loss: 0.0735 - iou_metric: 0.9277 - val_loss: 0.5524 - val_iou_metric: 0.5817\n",
            "Epoch 200/200\n",
            "167/167 [==============================] - 2s 11ms/sample - loss: 0.0655 - iou_metric: 0.9354 - val_loss: 0.5336 - val_iou_metric: 0.5963\n"
          ],
          "name": "stdout"
        }
      ]
    },
    {
      "cell_type": "markdown",
      "metadata": {
        "id": "Z-JywIONpb6W",
        "colab_type": "text"
      },
      "source": [
        "## 10) Testing the model on test images\n",
        "\n",
        "The following code will predict bounding boxes for some unseen images, draw them on the image using `ImageDraw` and then save them to a folder ( created with `mkdir` command )."
      ]
    },
    {
      "cell_type": "code",
      "metadata": {
        "id": "Qcn3zdf-I5yl",
        "colab_type": "code",
        "outputId": "38381e5a-391e-4d3d-ca17-c7de2e7c2dd2",
        "colab": {
          "base_uri": "https://localhost:8080/",
          "height": 34
        }
      },
      "source": [
        "\n",
        "!mkdir -v inference_images\n",
        "\n",
        "boxes = model.predict( x_test )\n",
        "for i in range( boxes.shape[0] ):\n",
        "    b = boxes[ i , 0 : 4 ] * input_dim\n",
        "    img = x_test[i] * 255\n",
        "    source_img = Image.fromarray( img.astype( np.uint8 ) , 'RGB' )\n",
        "    draw = ImageDraw.Draw( source_img )\n",
        "    draw.rectangle( b , outline=\"black\" )\n",
        "    source_img.save( 'inference_images/image_{}.png'.format( i + 1 ) , 'png' )\n"
      ],
      "execution_count": 0,
      "outputs": [
        {
          "output_type": "stream",
          "text": [
            "mkdir: created directory 'inference_images'\n"
          ],
          "name": "stdout"
        }
      ]
    },
    {
      "cell_type": "markdown",
      "metadata": {
        "id": "fMysv18NqMMI",
        "colab_type": "text"
      },
      "source": [
        "## 11) Print the average IOU and class accuracy\n",
        "\n",
        "We will calculate the average IOU score over the validation dataset and also the accuracy of the model in predicting classes."
      ]
    },
    {
      "cell_type": "code",
      "metadata": {
        "id": "ofgrJJxEOpOk",
        "colab_type": "code",
        "outputId": "dc2d3f13-3c2c-4b41-eafc-29543537ccbb",
        "colab": {
          "base_uri": "https://localhost:8080/",
          "height": 51
        }
      },
      "source": [
        "\n",
        "def calculate_avg_iou( target_boxes , pred_boxes ):\n",
        "    xA = np.maximum( target_boxes[ ... , 0], pred_boxes[ ... , 0] )\n",
        "    yA = np.maximum( target_boxes[ ... , 1], pred_boxes[ ... , 1] )\n",
        "    xB = np.minimum( target_boxes[ ... , 2], pred_boxes[ ... , 2] )\n",
        "    yB = np.minimum( target_boxes[ ... , 3], pred_boxes[ ... , 3] )\n",
        "    interArea = np.maximum(0.0, xB - xA ) * np.maximum(0.0, yB - yA )\n",
        "    boxAArea = (target_boxes[ ... , 2] - target_boxes[ ... , 0]) * (target_boxes[ ... , 3] - target_boxes[ ... , 1])\n",
        "    boxBArea = (pred_boxes[ ... , 2] - pred_boxes[ ... , 0]) * (pred_boxes[ ... , 3] - pred_boxes[ ... , 1])\n",
        "    iou = interArea / ( boxAArea + boxBArea - interArea )\n",
        "    return iou\n",
        "\n",
        "def class_accuracy( target_classes , pred_classes ):\n",
        "    target_classes = np.argmax( target_classes , axis=1 ) \n",
        "    pred_classes = np.argmax( pred_classes , axis=1 ) \n",
        "    return ( target_classes == pred_classes ).mean()\n",
        "\n",
        "target_boxes = y_test * input_dim\n",
        "pred = model.predict( x_test )\n",
        "pred_boxes = pred[ ... , 0 : 4 ] * input_dim\n",
        "pred_classes = pred[ ... , 4 : ]\n",
        "\n",
        "iou_scores = calculate_avg_iou( target_boxes , pred_boxes )\n",
        "print( 'Mean IOU score {}'.format( iou_scores.mean() ) )\n",
        "\n",
        "print( 'Class Accuracy is {} %'.format( class_accuracy( y_test[ ... , 4 : ] , pred_classes ) * 100 ))\n"
      ],
      "execution_count": 0,
      "outputs": [
        {
          "output_type": "stream",
          "text": [
            "Mean IOU score 0.5800086476915025\n",
            "Class Accuracy is 42.10526315789473 %\n"
          ],
          "name": "stdout"
        }
      ]
    }
  ]
}